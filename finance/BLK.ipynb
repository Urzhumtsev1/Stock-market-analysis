{
 "cells": [
  {
   "cell_type": "markdown",
   "metadata": {},
   "source": [
    "# Investment Risk Measurement"
   ]
  },
  {
   "cell_type": "code",
   "execution_count": 1,
   "metadata": {},
   "outputs": [],
   "source": [
    "from math import sqrt\n",
    "\n",
    "import pandas as pd\n",
    "import numpy as np\n",
    "import matplotlib.pyplot as plt\n",
    "from scipy.stats import norm"
   ]
  },
  {
   "cell_type": "markdown",
   "metadata": {},
   "source": [
    "## Available data. The analyzed period is 20 years."
   ]
  },
  {
   "cell_type": "code",
   "execution_count": 2,
   "metadata": {},
   "outputs": [],
   "source": [
    "df = pd.read_csv('../data/BLK.csv')\n",
    "df = df[::12]\n",
    "df.reset_index(drop=True, inplace=True)"
   ]
  },
  {
   "cell_type": "markdown",
   "metadata": {},
   "source": [
    "# Assessment of the real and normal distribution"
   ]
  },
  {
   "cell_type": "code",
   "execution_count": 3,
   "metadata": {},
   "outputs": [
    {
     "data": {
      "text/html": [
       "<div>\n",
       "<style scoped>\n",
       "    .dataframe tbody tr th:only-of-type {\n",
       "        vertical-align: middle;\n",
       "    }\n",
       "\n",
       "    .dataframe tbody tr th {\n",
       "        vertical-align: top;\n",
       "    }\n",
       "\n",
       "    .dataframe thead th {\n",
       "        text-align: right;\n",
       "    }\n",
       "</style>\n",
       "<table border=\"1\" class=\"dataframe\">\n",
       "  <thead>\n",
       "    <tr style=\"text-align: right;\">\n",
       "      <th></th>\n",
       "      <th>Open</th>\n",
       "      <th>Close</th>\n",
       "      <th>Date</th>\n",
       "      <th>yield</th>\n",
       "    </tr>\n",
       "  </thead>\n",
       "  <tbody>\n",
       "    <tr>\n",
       "      <th>0</th>\n",
       "      <td>14.000000</td>\n",
       "      <td>15.250000</td>\n",
       "      <td>1999-10-01</td>\n",
       "      <td>NaN</td>\n",
       "    </tr>\n",
       "    <tr>\n",
       "      <th>1</th>\n",
       "      <td>32.250000</td>\n",
       "      <td>42.625000</td>\n",
       "      <td>2000-10-01</td>\n",
       "      <td>179.508197</td>\n",
       "    </tr>\n",
       "    <tr>\n",
       "      <th>2</th>\n",
       "      <td>43.500000</td>\n",
       "      <td>43.250000</td>\n",
       "      <td>2001-10-01</td>\n",
       "      <td>1.466276</td>\n",
       "    </tr>\n",
       "    <tr>\n",
       "      <th>3</th>\n",
       "      <td>41.419998</td>\n",
       "      <td>35.720001</td>\n",
       "      <td>2002-10-01</td>\n",
       "      <td>-17.410402</td>\n",
       "    </tr>\n",
       "    <tr>\n",
       "      <th>4</th>\n",
       "      <td>49.000000</td>\n",
       "      <td>51.349998</td>\n",
       "      <td>2003-10-01</td>\n",
       "      <td>43.756989</td>\n",
       "    </tr>\n",
       "    <tr>\n",
       "      <th>5</th>\n",
       "      <td>73.489998</td>\n",
       "      <td>73.500000</td>\n",
       "      <td>2004-10-01</td>\n",
       "      <td>43.135351</td>\n",
       "    </tr>\n",
       "    <tr>\n",
       "      <th>6</th>\n",
       "      <td>88.870003</td>\n",
       "      <td>94.800003</td>\n",
       "      <td>2005-10-01</td>\n",
       "      <td>28.979596</td>\n",
       "    </tr>\n",
       "    <tr>\n",
       "      <th>7</th>\n",
       "      <td>149.000000</td>\n",
       "      <td>150.839996</td>\n",
       "      <td>2006-10-01</td>\n",
       "      <td>59.113915</td>\n",
       "    </tr>\n",
       "    <tr>\n",
       "      <th>8</th>\n",
       "      <td>174.050003</td>\n",
       "      <td>206.949997</td>\n",
       "      <td>2007-10-01</td>\n",
       "      <td>37.198358</td>\n",
       "    </tr>\n",
       "    <tr>\n",
       "      <th>9</th>\n",
       "      <td>191.000000</td>\n",
       "      <td>131.339996</td>\n",
       "      <td>2008-10-01</td>\n",
       "      <td>-36.535396</td>\n",
       "    </tr>\n",
       "    <tr>\n",
       "      <th>10</th>\n",
       "      <td>214.869995</td>\n",
       "      <td>216.490005</td>\n",
       "      <td>2009-10-01</td>\n",
       "      <td>64.831743</td>\n",
       "    </tr>\n",
       "    <tr>\n",
       "      <th>11</th>\n",
       "      <td>171.800003</td>\n",
       "      <td>170.990005</td>\n",
       "      <td>2010-10-01</td>\n",
       "      <td>-21.017137</td>\n",
       "    </tr>\n",
       "    <tr>\n",
       "      <th>12</th>\n",
       "      <td>146.809998</td>\n",
       "      <td>157.789993</td>\n",
       "      <td>2011-10-01</td>\n",
       "      <td>-7.719756</td>\n",
       "    </tr>\n",
       "    <tr>\n",
       "      <th>13</th>\n",
       "      <td>179.570007</td>\n",
       "      <td>189.679993</td>\n",
       "      <td>2012-10-01</td>\n",
       "      <td>20.210407</td>\n",
       "    </tr>\n",
       "    <tr>\n",
       "      <th>14</th>\n",
       "      <td>270.000000</td>\n",
       "      <td>300.809998</td>\n",
       "      <td>2013-10-01</td>\n",
       "      <td>58.588153</td>\n",
       "    </tr>\n",
       "    <tr>\n",
       "      <th>15</th>\n",
       "      <td>327.470001</td>\n",
       "      <td>341.109985</td>\n",
       "      <td>2014-10-01</td>\n",
       "      <td>13.397157</td>\n",
       "    </tr>\n",
       "    <tr>\n",
       "      <th>16</th>\n",
       "      <td>297.070007</td>\n",
       "      <td>351.970001</td>\n",
       "      <td>2015-10-01</td>\n",
       "      <td>3.183729</td>\n",
       "    </tr>\n",
       "    <tr>\n",
       "      <th>17</th>\n",
       "      <td>361.700012</td>\n",
       "      <td>341.239990</td>\n",
       "      <td>2016-10-01</td>\n",
       "      <td>-3.048558</td>\n",
       "    </tr>\n",
       "    <tr>\n",
       "      <th>18</th>\n",
       "      <td>447.730011</td>\n",
       "      <td>470.829987</td>\n",
       "      <td>2017-10-01</td>\n",
       "      <td>37.976205</td>\n",
       "    </tr>\n",
       "    <tr>\n",
       "      <th>19</th>\n",
       "      <td>474.359985</td>\n",
       "      <td>411.420013</td>\n",
       "      <td>2018-10-01</td>\n",
       "      <td>-12.618137</td>\n",
       "    </tr>\n",
       "    <tr>\n",
       "      <th>20</th>\n",
       "      <td>445.630005</td>\n",
       "      <td>461.700012</td>\n",
       "      <td>2019-10-01</td>\n",
       "      <td>12.221087</td>\n",
       "    </tr>\n",
       "  </tbody>\n",
       "</table>\n",
       "</div>"
      ],
      "text/plain": [
       "          Open       Close        Date       yield\n",
       "0    14.000000   15.250000  1999-10-01         NaN\n",
       "1    32.250000   42.625000  2000-10-01  179.508197\n",
       "2    43.500000   43.250000  2001-10-01    1.466276\n",
       "3    41.419998   35.720001  2002-10-01  -17.410402\n",
       "4    49.000000   51.349998  2003-10-01   43.756989\n",
       "5    73.489998   73.500000  2004-10-01   43.135351\n",
       "6    88.870003   94.800003  2005-10-01   28.979596\n",
       "7   149.000000  150.839996  2006-10-01   59.113915\n",
       "8   174.050003  206.949997  2007-10-01   37.198358\n",
       "9   191.000000  131.339996  2008-10-01  -36.535396\n",
       "10  214.869995  216.490005  2009-10-01   64.831743\n",
       "11  171.800003  170.990005  2010-10-01  -21.017137\n",
       "12  146.809998  157.789993  2011-10-01   -7.719756\n",
       "13  179.570007  189.679993  2012-10-01   20.210407\n",
       "14  270.000000  300.809998  2013-10-01   58.588153\n",
       "15  327.470001  341.109985  2014-10-01   13.397157\n",
       "16  297.070007  351.970001  2015-10-01    3.183729\n",
       "17  361.700012  341.239990  2016-10-01   -3.048558\n",
       "18  447.730011  470.829987  2017-10-01   37.976205\n",
       "19  474.359985  411.420013  2018-10-01  -12.618137\n",
       "20  445.630005  461.700012  2019-10-01   12.221087"
      ]
     },
     "execution_count": 3,
     "metadata": {},
     "output_type": "execute_result"
    }
   ],
   "source": [
    "df['yield'] = df['Close'].pct_change() * 100\n",
    "df.loc[:, ['Open', 'Close', 'Date','yield']]"
   ]
  },
  {
   "cell_type": "markdown",
   "metadata": {},
   "source": [
    "### Expected value"
   ]
  },
  {
   "cell_type": "code",
   "execution_count": 4,
   "metadata": {},
   "outputs": [],
   "source": [
    "mu = df['yield'].mean()"
   ]
  },
  {
   "cell_type": "markdown",
   "metadata": {},
   "source": [
    "### Dispersion and Standard Deviation"
   ]
  },
  {
   "cell_type": "code",
   "execution_count": 5,
   "metadata": {},
   "outputs": [],
   "source": [
    "dispersion = df['yield'].var()\n",
    "sigma = sqrt(dispersion)"
   ]
  },
  {
   "cell_type": "markdown",
   "metadata": {},
   "source": [
    "### Skewness and Kurtosis"
   ]
  },
  {
   "cell_type": "code",
   "execution_count": 6,
   "metadata": {},
   "outputs": [],
   "source": [
    "skew = df['yield'].skew()\n",
    "kurtosis = df['yield'].kurt()"
   ]
  },
  {
   "cell_type": "markdown",
   "metadata": {},
   "source": [
    "## Comparison of the real and normal distribution"
   ]
  },
  {
   "cell_type": "code",
   "execution_count": 7,
   "metadata": {},
   "outputs": [
    {
     "data": {
      "image/png": "[encoded data removed]",
      "text/plain": [
       "<Figure size 432x288 with 1 Axes>"
      ]
     },
     "metadata": {
      "needs_background": "light"
     },
     "output_type": "display_data"
    }
   ],
   "source": [
    "mn = mu - 5 * sigma \n",
    "xs = sorted(np.arange(mn, -mn, .05))\n",
    "ys = [norm.pdf(x, mu, sigma) for x in xs]\n",
    "h = sorted(np.asarray(df['yield'].dropna()))\n",
    "plt.plot(xs, ys, label='Normal distribution')\n",
    "plt.vlines(mu, 0, max(ys), label=f'$\\mu = {mu:.2f}$')\n",
    "plt.hist(h, density=True, histtype='stepfilled', alpha=0.3, label='Returns')\n",
    "plt.rcParams['figure.figsize'] = [10, 5]\n",
    "plt.legend()\n",
    "plt.show()"
   ]
  },
  {
   "cell_type": "markdown",
   "metadata": {},
   "source": [
    "## Probability of profitability within the specified limits"
   ]
  },
  {
   "cell_type": "code",
   "execution_count": 8,
   "metadata": {},
   "outputs": [],
   "source": [
    "def calc_returns(mu, sigma, i):\n",
    "    dt = mu - sigma*(i+1)\n",
    "    dt2 = mu + sigma*(i+1)\n",
    "    if dt > -100:\n",
    "        return (\n",
    "            {'dt':dt}, \n",
    "            {'dt2': dt2}, \n",
    "            {'probability':norm.cdf(dt2, mu, sigma) - norm.cdf(dt, mu, sigma)}\n",
    "        )\n",
    "    else: \n",
    "        return (\n",
    "            {'dt':-100}, \n",
    "            {'dt2':dt2}, \n",
    "            {'probability':norm.cdf(dt2, mu, sigma) - norm.cdf(dt, mu, sigma)}\n",
    "        )\n",
    "\n",
    "lst = [calc_returns(mu, sigma, i) for i in range(3)]"
   ]
  },
  {
   "cell_type": "code",
   "execution_count": 9,
   "metadata": {},
   "outputs": [
    {
     "name": "stdout",
     "output_type": "stream",
     "text": [
      "\n",
      "mu=25.26 \n",
      "sigma=46.50 \n",
      "skew=1.90 \n",
      "kurtosis=5.70\n",
      "\n",
      "Probability=68.27% for values: -21.24 and 71.76 \n",
      "Probability=95.45% for values: -67.75 and 118.27 \n",
      "Probability=99.73% for values: -100.00 and 164.77\n",
      "Bankrupt risk=0.353467556%\n"
     ]
    }
   ],
   "source": [
    "ll = [f'\\nProbability={i[2][\"probability\"]:.2%} for values: {i[0][\"dt\"]:.2f} and {i[1][\"dt2\"]:.2f}' for i in lst]\n",
    "print(\n",
    "    f'\\nmu={mu:.2f}', \n",
    "    f'\\nsigma={sigma:.2f}', \n",
    "    f'\\nskew={skew:.2f}', \n",
    "    f'\\nkurtosis={kurtosis:.2f}'\n",
    ")\n",
    "print(*ll)\n",
    "print(f'Bankrupt risk={norm.cdf(-100, mu, sigma):.9%}')"
   ]
  },
  {
   "cell_type": "markdown",
   "metadata": {},
   "source": [
    "## Change in annual profitability at various time intervals"
   ]
  },
  {
   "cell_type": "code",
   "execution_count": 10,
   "metadata": {},
   "outputs": [],
   "source": [
    "def calc_period(year):\n",
    "    if year == 1:\n",
    "        return df['yield'].max(), df['yield'].mean(), df['yield'].min() \n",
    "    p_df = pd.DataFrame()\n",
    "    length = len(df)\n",
    "    n = 0\n",
    "    for i in range(length):\n",
    "        while i+year < length:\n",
    "            start_price = df.loc[i,'Close']\n",
    "            end_price = df.loc[i+year,'Close']\n",
    "            p_df.loc[i+n,'Close'] = start_price\n",
    "            p_df.loc[i+n+1,'Close'] = end_price\n",
    "            # среднегодовая доходность\n",
    "            p_df.loc[i+n+1,'yield'] = (pow((end_price/start_price), 1/(year+1)) - 1)*100 \n",
    "            n += year\n",
    "            break\n",
    "    return  p_df['yield'].max(), p_df['yield'].mean(), p_df['yield'].min()\n",
    "    "
   ]
  },
  {
   "cell_type": "code",
   "execution_count": 11,
   "metadata": {},
   "outputs": [
    {
     "data": {
      "text/html": [
       "<div>\n",
       "<style scoped>\n",
       "    .dataframe tbody tr th:only-of-type {\n",
       "        vertical-align: middle;\n",
       "    }\n",
       "\n",
       "    .dataframe tbody tr th {\n",
       "        vertical-align: top;\n",
       "    }\n",
       "\n",
       "    .dataframe thead th {\n",
       "        text-align: right;\n",
       "    }\n",
       "</style>\n",
       "<table border=\"1\" class=\"dataframe\">\n",
       "  <thead>\n",
       "    <tr style=\"text-align: right;\">\n",
       "      <th></th>\n",
       "      <th>Annual percentage yield</th>\n",
       "      <th>1 year</th>\n",
       "      <th>3 years</th>\n",
       "      <th>5 years</th>\n",
       "      <th>7 years</th>\n",
       "      <th>10 years</th>\n",
       "    </tr>\n",
       "  </thead>\n",
       "  <tbody>\n",
       "    <tr>\n",
       "      <th>0</th>\n",
       "      <td>Max</td>\n",
       "      <td>179.508197</td>\n",
       "      <td>30.916390</td>\n",
       "      <td>34.016723</td>\n",
       "      <td>33.169826</td>\n",
       "      <td>27.274836</td>\n",
       "    </tr>\n",
       "    <tr>\n",
       "      <th>1</th>\n",
       "      <td>Mean</td>\n",
       "      <td>25.260889</td>\n",
       "      <td>12.335148</td>\n",
       "      <td>13.985869</td>\n",
       "      <td>14.490996</td>\n",
       "      <td>13.474177</td>\n",
       "    </tr>\n",
       "    <tr>\n",
       "      <th>2</th>\n",
       "      <td>Min</td>\n",
       "      <td>-36.535396</td>\n",
       "      <td>-4.659741</td>\n",
       "      <td>-1.441818</td>\n",
       "      <td>5.852900</td>\n",
       "      <td>7.127755</td>\n",
       "    </tr>\n",
       "  </tbody>\n",
       "</table>\n",
       "</div>"
      ],
      "text/plain": [
       "  Annual percentage yield      1 year    3 years    5 years    7 years  \\\n",
       "0                     Max  179.508197  30.916390  34.016723  33.169826   \n",
       "1                    Mean   25.260889  12.335148  13.985869  14.490996   \n",
       "2                     Min  -36.535396  -4.659741  -1.441818   5.852900   \n",
       "\n",
       "    10 years  \n",
       "0  27.274836  \n",
       "1  13.474177  \n",
       "2   7.127755  "
      ]
     },
     "execution_count": 11,
     "metadata": {},
     "output_type": "execute_result"
    }
   ],
   "source": [
    "tbl_constr = {\n",
    "    'Annual percentage yield': ['Max', 'Mean', 'Min'], \n",
    "    '1 year': calc_period(1),\n",
    "    '3 years': calc_period(3),\n",
    "    '5 years': calc_period(5),\n",
    "    '7 years': calc_period(7),\n",
    "    '10 years': calc_period(10)\n",
    "}\n",
    "tbl_df = pd.DataFrame(data=tbl_constr)\n",
    "tbl_df"
   ]
  },
  {
   "cell_type": "markdown",
   "metadata": {},
   "source": [
    "## Diagram of annual profitability at various time intervals"
   ]
  },
  {
   "cell_type": "code",
   "execution_count": 12,
   "metadata": {},
   "outputs": [
    {
     "data": {
      "image/png": "[encoded data removed]",
      "text/plain": [
       "<Figure size 720x360 with 1 Axes>"
      ]
     },
     "metadata": {
      "needs_background": "light"
     },
     "output_type": "display_data"
    }
   ],
   "source": [
    "xs = sorted(np.arange(1, 11, 1))\n",
    "ys_max = [calc_period(x)[0] for x in xs]\n",
    "ys_min = [calc_period(x)[2] for x in xs]\n",
    "\n",
    "from scipy.interpolate import splrep, splev\n",
    "\n",
    "bspl_max = splrep(xs, ys_max, s=1000)\n",
    "bspl_y_max = splev(xs, bspl_max)\n",
    "\n",
    "bspl_min = splrep(xs, ys_min, s=1000)\n",
    "bspl_y_min = splev(xs, bspl_min)\n",
    "\n",
    "plt.plot(xs, bspl_y_max, label='Max. yield', alpha=0.3, color='green')\n",
    "plt.plot(xs, bspl_y_min, label='Min. yield', alpha=0.3, color='red')\n",
    "plt.hlines(0, 0, 10, label=f'', alpha=0.6, linestyle='--')\n",
    "plt.rcParams['figure.figsize'] = [10, 5]\n",
    "plt.legend()\n",
    "plt.show()"
   ]
  }
 ],
 "metadata": {
  "kernelspec": {
   "display_name": "Python 3.7.4 32-bit ('env': venv)",
   "language": "python",
   "name": "python37432bitenvvenv90bc31fd58af47abba4c0be5b28a9fb7"
  },
  "language_info": {
   "codemirror_mode": {
    "name": "ipython",
    "version": 3
   },
   "file_extension": ".py",
   "mimetype": "text/x-python",
   "name": "python",
   "nbconvert_exporter": "python",
   "pygments_lexer": "ipython3",
   "version": "3.7.4"
  }
 },
 "nbformat": 4,
 "nbformat_minor": 4
}

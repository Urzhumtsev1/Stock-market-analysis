{
 "cells": [
  {
   "cell_type": "markdown",
   "metadata": {},
   "source": [
    "# Investment Risk Measurement"
   ]
  },
  {
   "cell_type": "code",
   "execution_count": 1,
   "metadata": {},
   "outputs": [],
   "source": [
    "from math import sqrt\n",
    "\n",
    "import pandas as pd\n",
    "import numpy as np\n",
    "import matplotlib.pyplot as plt\n",
    "from scipy.stats import norm"
   ]
  },
  {
   "cell_type": "markdown",
   "metadata": {},
   "source": [
    "## Available data."
   ]
  },
  {
   "cell_type": "code",
   "execution_count": 2,
   "metadata": {},
   "outputs": [],
   "source": [
    "df = pd.read_csv('../data/DVA.csv')\n",
    "df = df[::12]\n",
    "df.reset_index(drop=True, inplace=True)"
   ]
  },
  {
   "cell_type": "markdown",
   "metadata": {},
   "source": [
    "# Assessment of the real and normal distribution"
   ]
  },
  {
   "cell_type": "code",
   "execution_count": 3,
   "metadata": {},
   "outputs": [
    {
     "data": {
      "text/html": [
       "<div>\n",
       "<style scoped>\n",
       "    .dataframe tbody tr th:only-of-type {\n",
       "        vertical-align: middle;\n",
       "    }\n",
       "\n",
       "    .dataframe tbody tr th {\n",
       "        vertical-align: top;\n",
       "    }\n",
       "\n",
       "    .dataframe thead th {\n",
       "        text-align: right;\n",
       "    }\n",
       "</style>\n",
       "<table border=\"1\" class=\"dataframe\">\n",
       "  <thead>\n",
       "    <tr style=\"text-align: right;\">\n",
       "      <th></th>\n",
       "      <th>Open</th>\n",
       "      <th>Close</th>\n",
       "      <th>Date</th>\n",
       "      <th>yield</th>\n",
       "    </tr>\n",
       "  </thead>\n",
       "  <tbody>\n",
       "    <tr>\n",
       "      <th>0</th>\n",
       "      <td>3.475000</td>\n",
       "      <td>4.075000</td>\n",
       "      <td>1995-10-01</td>\n",
       "      <td>NaN</td>\n",
       "    </tr>\n",
       "    <tr>\n",
       "      <th>1</th>\n",
       "      <td>7.950000</td>\n",
       "      <td>7.800000</td>\n",
       "      <td>1996-10-01</td>\n",
       "      <td>91.411043</td>\n",
       "    </tr>\n",
       "    <tr>\n",
       "      <th>2</th>\n",
       "      <td>10.050000</td>\n",
       "      <td>10.270833</td>\n",
       "      <td>1997-10-01</td>\n",
       "      <td>31.677346</td>\n",
       "    </tr>\n",
       "    <tr>\n",
       "      <th>3</th>\n",
       "      <td>8.000000</td>\n",
       "      <td>8.166667</td>\n",
       "      <td>1998-10-01</td>\n",
       "      <td>-20.486810</td>\n",
       "    </tr>\n",
       "    <tr>\n",
       "      <th>4</th>\n",
       "      <td>2.458333</td>\n",
       "      <td>2.437500</td>\n",
       "      <td>1999-10-01</td>\n",
       "      <td>-70.153062</td>\n",
       "    </tr>\n",
       "    <tr>\n",
       "      <th>5</th>\n",
       "      <td>2.479167</td>\n",
       "      <td>3.750000</td>\n",
       "      <td>2000-10-01</td>\n",
       "      <td>53.846154</td>\n",
       "    </tr>\n",
       "    <tr>\n",
       "      <th>6</th>\n",
       "      <td>6.783333</td>\n",
       "      <td>6.066667</td>\n",
       "      <td>2001-10-01</td>\n",
       "      <td>61.777787</td>\n",
       "    </tr>\n",
       "    <tr>\n",
       "      <th>7</th>\n",
       "      <td>7.966667</td>\n",
       "      <td>7.990000</td>\n",
       "      <td>2002-10-01</td>\n",
       "      <td>31.703289</td>\n",
       "    </tr>\n",
       "    <tr>\n",
       "      <th>8</th>\n",
       "      <td>10.583333</td>\n",
       "      <td>11.700000</td>\n",
       "      <td>2003-10-01</td>\n",
       "      <td>46.433041</td>\n",
       "    </tr>\n",
       "    <tr>\n",
       "      <th>9</th>\n",
       "      <td>15.475000</td>\n",
       "      <td>14.810000</td>\n",
       "      <td>2004-10-01</td>\n",
       "      <td>26.581197</td>\n",
       "    </tr>\n",
       "    <tr>\n",
       "      <th>10</th>\n",
       "      <td>23.035000</td>\n",
       "      <td>24.590000</td>\n",
       "      <td>2005-10-01</td>\n",
       "      <td>66.036462</td>\n",
       "    </tr>\n",
       "    <tr>\n",
       "      <th>11</th>\n",
       "      <td>28.485001</td>\n",
       "      <td>27.815001</td>\n",
       "      <td>2006-10-01</td>\n",
       "      <td>13.115092</td>\n",
       "    </tr>\n",
       "    <tr>\n",
       "      <th>12</th>\n",
       "      <td>31.469999</td>\n",
       "      <td>32.595001</td>\n",
       "      <td>2007-10-01</td>\n",
       "      <td>17.184972</td>\n",
       "    </tr>\n",
       "    <tr>\n",
       "      <th>13</th>\n",
       "      <td>28.334999</td>\n",
       "      <td>28.375000</td>\n",
       "      <td>2008-10-01</td>\n",
       "      <td>-12.946774</td>\n",
       "    </tr>\n",
       "    <tr>\n",
       "      <th>14</th>\n",
       "      <td>28.370001</td>\n",
       "      <td>26.514999</td>\n",
       "      <td>2009-10-01</td>\n",
       "      <td>-6.555070</td>\n",
       "    </tr>\n",
       "    <tr>\n",
       "      <th>15</th>\n",
       "      <td>34.580002</td>\n",
       "      <td>35.875000</td>\n",
       "      <td>2010-10-01</td>\n",
       "      <td>35.300778</td>\n",
       "    </tr>\n",
       "    <tr>\n",
       "      <th>16</th>\n",
       "      <td>31.100000</td>\n",
       "      <td>35.000000</td>\n",
       "      <td>2011-10-01</td>\n",
       "      <td>-2.439024</td>\n",
       "    </tr>\n",
       "    <tr>\n",
       "      <th>17</th>\n",
       "      <td>52.110001</td>\n",
       "      <td>56.259998</td>\n",
       "      <td>2012-10-01</td>\n",
       "      <td>60.742851</td>\n",
       "    </tr>\n",
       "    <tr>\n",
       "      <th>18</th>\n",
       "      <td>56.889999</td>\n",
       "      <td>56.209999</td>\n",
       "      <td>2013-10-01</td>\n",
       "      <td>-0.088871</td>\n",
       "    </tr>\n",
       "    <tr>\n",
       "      <th>19</th>\n",
       "      <td>73.300003</td>\n",
       "      <td>78.070000</td>\n",
       "      <td>2014-10-01</td>\n",
       "      <td>38.889880</td>\n",
       "    </tr>\n",
       "    <tr>\n",
       "      <th>20</th>\n",
       "      <td>72.330002</td>\n",
       "      <td>77.510002</td>\n",
       "      <td>2015-10-01</td>\n",
       "      <td>-0.717302</td>\n",
       "    </tr>\n",
       "    <tr>\n",
       "      <th>21</th>\n",
       "      <td>65.690002</td>\n",
       "      <td>58.619999</td>\n",
       "      <td>2016-10-01</td>\n",
       "      <td>-24.371052</td>\n",
       "    </tr>\n",
       "    <tr>\n",
       "      <th>22</th>\n",
       "      <td>59.549999</td>\n",
       "      <td>60.740002</td>\n",
       "      <td>2017-10-01</td>\n",
       "      <td>3.616518</td>\n",
       "    </tr>\n",
       "    <tr>\n",
       "      <th>23</th>\n",
       "      <td>73.000000</td>\n",
       "      <td>67.339996</td>\n",
       "      <td>2018-10-01</td>\n",
       "      <td>10.865976</td>\n",
       "    </tr>\n",
       "    <tr>\n",
       "      <th>24</th>\n",
       "      <td>57.070000</td>\n",
       "      <td>58.599998</td>\n",
       "      <td>2019-10-01</td>\n",
       "      <td>-12.978911</td>\n",
       "    </tr>\n",
       "  </tbody>\n",
       "</table>\n",
       "</div>"
      ],
      "text/plain": [
       "         Open      Close        Date      yield\n",
       "0    3.475000   4.075000  1995-10-01        NaN\n",
       "1    7.950000   7.800000  1996-10-01  91.411043\n",
       "2   10.050000  10.270833  1997-10-01  31.677346\n",
       "3    8.000000   8.166667  1998-10-01 -20.486810\n",
       "4    2.458333   2.437500  1999-10-01 -70.153062\n",
       "5    2.479167   3.750000  2000-10-01  53.846154\n",
       "6    6.783333   6.066667  2001-10-01  61.777787\n",
       "7    7.966667   7.990000  2002-10-01  31.703289\n",
       "8   10.583333  11.700000  2003-10-01  46.433041\n",
       "9   15.475000  14.810000  2004-10-01  26.581197\n",
       "10  23.035000  24.590000  2005-10-01  66.036462\n",
       "11  28.485001  27.815001  2006-10-01  13.115092\n",
       "12  31.469999  32.595001  2007-10-01  17.184972\n",
       "13  28.334999  28.375000  2008-10-01 -12.946774\n",
       "14  28.370001  26.514999  2009-10-01  -6.555070\n",
       "15  34.580002  35.875000  2010-10-01  35.300778\n",
       "16  31.100000  35.000000  2011-10-01  -2.439024\n",
       "17  52.110001  56.259998  2012-10-01  60.742851\n",
       "18  56.889999  56.209999  2013-10-01  -0.088871\n",
       "19  73.300003  78.070000  2014-10-01  38.889880\n",
       "20  72.330002  77.510002  2015-10-01  -0.717302\n",
       "21  65.690002  58.619999  2016-10-01 -24.371052\n",
       "22  59.549999  60.740002  2017-10-01   3.616518\n",
       "23  73.000000  67.339996  2018-10-01  10.865976\n",
       "24  57.070000  58.599998  2019-10-01 -12.978911"
      ]
     },
     "execution_count": 3,
     "metadata": {},
     "output_type": "execute_result"
    }
   ],
   "source": [
    "df['yield'] = df['Close'].pct_change() * 100\n",
    "df.loc[:, ['Open', 'Close', 'Date','yield']]"
   ]
  },
  {
   "cell_type": "markdown",
   "metadata": {},
   "source": [
    "### Expected value"
   ]
  },
  {
   "cell_type": "code",
   "execution_count": 4,
   "metadata": {},
   "outputs": [],
   "source": [
    "mu = df['yield'].mean()"
   ]
  },
  {
   "cell_type": "markdown",
   "metadata": {},
   "source": [
    "### Dispersion and Standard Deviation"
   ]
  },
  {
   "cell_type": "code",
   "execution_count": 5,
   "metadata": {},
   "outputs": [],
   "source": [
    "dispersion = df['yield'].var()\n",
    "sigma = sqrt(dispersion)"
   ]
  },
  {
   "cell_type": "markdown",
   "metadata": {},
   "source": [
    "### Skewness and Kurtosis"
   ]
  },
  {
   "cell_type": "code",
   "execution_count": 6,
   "metadata": {},
   "outputs": [],
   "source": [
    "skew = df['yield'].skew()\n",
    "kurtosis = df['yield'].kurt()"
   ]
  },
  {
   "cell_type": "markdown",
   "metadata": {},
   "source": [
    "## Comparison of the real and normal distribution"
   ]
  },
  {
   "cell_type": "code",
   "execution_count": 7,
   "metadata": {},
   "outputs": [
    {
     "data": {
      "image/png": "[encoded data removed]",
      "text/plain": [
       "<Figure size 432x288 with 1 Axes>"
      ]
     },
     "metadata": {
      "needs_background": "light"
     },
     "output_type": "display_data"
    }
   ],
   "source": [
    "mn = mu - 5 * sigma \n",
    "xs = sorted(np.arange(mn, -mn, .05))\n",
    "ys = [norm.pdf(x, mu, sigma) for x in xs]\n",
    "h = sorted(np.asarray(df['yield'].dropna()))\n",
    "plt.plot(xs, ys, label='Normal distribution')\n",
    "plt.vlines(mu, 0, max(ys), label=f'$\\mu = {mu:.2f}$')\n",
    "plt.hist(h, density=True, histtype='stepfilled', alpha=0.3, label='Returns')\n",
    "plt.rcParams['figure.figsize'] = [10, 5]\n",
    "plt.legend()\n",
    "plt.show()"
   ]
  },
  {
   "cell_type": "markdown",
   "metadata": {},
   "source": [
    "## Probability of profitability within the specified limits"
   ]
  },
  {
   "cell_type": "code",
   "execution_count": 8,
   "metadata": {},
   "outputs": [],
   "source": [
    "def calc_returns(mu, sigma, i):\n",
    "    dt = mu - sigma*(i+1)\n",
    "    dt2 = mu + sigma*(i+1)\n",
    "    if dt > -100:\n",
    "        return (\n",
    "            {'dt':dt}, \n",
    "            {'dt2': dt2}, \n",
    "            {'probability':norm.cdf(dt2, mu, sigma) - norm.cdf(dt, mu, sigma)}\n",
    "        )\n",
    "    else: \n",
    "        return (\n",
    "            {'dt':-100}, \n",
    "            {'dt2':dt2}, \n",
    "            {'probability':norm.cdf(dt2, mu, sigma) - norm.cdf(dt, mu, sigma)}\n",
    "        )\n",
    "\n",
    "lst = [calc_returns(mu, sigma, i) for i in range(3)]"
   ]
  },
  {
   "cell_type": "code",
   "execution_count": 9,
   "metadata": {},
   "outputs": [
    {
     "name": "stdout",
     "output_type": "stream",
     "text": [
      "\n",
      "mu=18.27 \n",
      "sigma=35.91 \n",
      "skew=-0.19 \n",
      "kurtosis=0.39\n",
      "\n",
      "Probability=68.27% for values: -17.64 and 54.18 \n",
      "Probability=95.45% for values: -53.55 and 90.09 \n",
      "Probability=99.73% for values: -89.47 and 126.00\n",
      "Bankrupt risk=0.049501474%\n"
     ]
    }
   ],
   "source": [
    "ll = [f'\\nProbability={i[2][\"probability\"]:.2%} for values: {i[0][\"dt\"]:.2f} and {i[1][\"dt2\"]:.2f}' for i in lst]\n",
    "print(\n",
    "    f'\\nmu={mu:.2f}', \n",
    "    f'\\nsigma={sigma:.2f}', \n",
    "    f'\\nskew={skew:.2f}', \n",
    "    f'\\nkurtosis={kurtosis:.2f}'\n",
    ")\n",
    "print(*ll)\n",
    "print(f'Bankrupt risk={norm.cdf(-100, mu, sigma):.9%}')"
   ]
  },
  {
   "cell_type": "markdown",
   "metadata": {},
   "source": [
    "## Change in annual profitability at various time intervals"
   ]
  },
  {
   "cell_type": "code",
   "execution_count": 10,
   "metadata": {},
   "outputs": [],
   "source": [
    "def calc_period(year):\n",
    "    if year == 1:\n",
    "        return df['yield'].max(), df['yield'].mean(), df['yield'].min() \n",
    "    p_df = pd.DataFrame()\n",
    "    length = len(df)\n",
    "    n = 0\n",
    "    for i in range(length):\n",
    "        while i+year < length:\n",
    "            start_price = df.loc[i,'Close']\n",
    "            end_price = df.loc[i+year,'Close']\n",
    "            p_df.loc[i+n,'Close'] = start_price\n",
    "            p_df.loc[i+n+1,'Close'] = end_price\n",
    "            # среднегодовая доходность\n",
    "            p_df.loc[i+n+1,'yield'] = (pow((end_price/start_price), 1/(year+1)) - 1)*100 \n",
    "            n += year\n",
    "            break\n",
    "    return  p_df['yield'].max(), p_df['yield'].mean(), p_df['yield'].min()\n",
    "    "
   ]
  },
  {
   "cell_type": "code",
   "execution_count": 11,
   "metadata": {},
   "outputs": [
    {
     "data": {
      "text/html": [
       "<div>\n",
       "<style scoped>\n",
       "    .dataframe tbody tr th:only-of-type {\n",
       "        vertical-align: middle;\n",
       "    }\n",
       "\n",
       "    .dataframe tbody tr th {\n",
       "        vertical-align: top;\n",
       "    }\n",
       "\n",
       "    .dataframe thead th {\n",
       "        text-align: right;\n",
       "    }\n",
       "</style>\n",
       "<table border=\"1\" class=\"dataframe\">\n",
       "  <thead>\n",
       "    <tr style=\"text-align: right;\">\n",
       "      <th></th>\n",
       "      <th>Annual percentage yield</th>\n",
       "      <th>1 year</th>\n",
       "      <th>3 years</th>\n",
       "      <th>5 years</th>\n",
       "      <th>7 years</th>\n",
       "      <th>10 years</th>\n",
       "    </tr>\n",
       "  </thead>\n",
       "  <tbody>\n",
       "    <tr>\n",
       "      <th>0</th>\n",
       "      <td>Max</td>\n",
       "      <td>91.411043</td>\n",
       "      <td>34.555216</td>\n",
       "      <td>36.811061</td>\n",
       "      <td>35.571002</td>\n",
       "      <td>24.231447</td>\n",
       "    </tr>\n",
       "    <tr>\n",
       "      <th>1</th>\n",
       "      <td>Mean</td>\n",
       "      <td>18.268563</td>\n",
       "      <td>9.095324</td>\n",
       "      <td>11.197766</td>\n",
       "      <td>13.063633</td>\n",
       "      <td>13.860241</td>\n",
       "    </tr>\n",
       "    <tr>\n",
       "      <th>2</th>\n",
       "      <td>Min</td>\n",
       "      <td>-70.153062</td>\n",
       "      <td>-25.232561</td>\n",
       "      <td>-4.668688</td>\n",
       "      <td>0.510686</td>\n",
       "      <td>5.821738</td>\n",
       "    </tr>\n",
       "  </tbody>\n",
       "</table>\n",
       "</div>"
      ],
      "text/plain": [
       "  Annual percentage yield     1 year    3 years    5 years    7 years  \\\n",
       "0                     Max  91.411043  34.555216  36.811061  35.571002   \n",
       "1                    Mean  18.268563   9.095324  11.197766  13.063633   \n",
       "2                     Min -70.153062 -25.232561  -4.668688   0.510686   \n",
       "\n",
       "    10 years  \n",
       "0  24.231447  \n",
       "1  13.860241  \n",
       "2   5.821738  "
      ]
     },
     "execution_count": 11,
     "metadata": {},
     "output_type": "execute_result"
    }
   ],
   "source": [
    "tbl_constr = {\n",
    "    'Annual percentage yield': ['Max', 'Mean', 'Min'], \n",
    "    '1 year': calc_period(1),\n",
    "    '3 years': calc_period(3),\n",
    "    '5 years': calc_period(5),\n",
    "    '7 years': calc_period(7),\n",
    "    '10 years': calc_period(10)\n",
    "}\n",
    "tbl_df = pd.DataFrame(data=tbl_constr)\n",
    "tbl_df"
   ]
  },
  {
   "cell_type": "markdown",
   "metadata": {},
   "source": [
    "## Diagram of annual profitability at various time intervals"
   ]
  },
  {
   "cell_type": "code",
   "execution_count": 12,
   "metadata": {},
   "outputs": [
    {
     "data": {
      "image/png": "[encoded data removed]",
      "text/plain": [
       "<Figure size 720x360 with 1 Axes>"
      ]
     },
     "metadata": {
      "needs_background": "light"
     },
     "output_type": "display_data"
    }
   ],
   "source": [
    "xs = sorted(np.arange(1, 11, 1))\n",
    "ys_max = [calc_period(x)[0] for x in xs]\n",
    "ys_min = [calc_period(x)[2] for x in xs]\n",
    "\n",
    "from scipy.interpolate import splrep, splev\n",
    "\n",
    "bspl_max = splrep(xs, ys_max, s=1000)\n",
    "bspl_y_max = splev(xs, bspl_max)\n",
    "\n",
    "bspl_min = splrep(xs, ys_min, s=1000)\n",
    "bspl_y_min = splev(xs, bspl_min)\n",
    "\n",
    "plt.plot(xs, bspl_y_max, label='Max. yield', alpha=0.3, color='green')\n",
    "plt.plot(xs, bspl_y_min, label='Min. yield', alpha=0.3, color='red')\n",
    "plt.hlines(0, 0, 10, label=f'', alpha=0.6, linestyle='--')\n",
    "plt.rcParams['figure.figsize'] = [10, 5]\n",
    "plt.legend()\n",
    "plt.show()"
   ]
  }
 ],
 "metadata": {
  "kernelspec": {
   "display_name": "Python 3.7.4 32-bit ('env': venv)",
   "language": "python",
   "name": "python37432bitenvvenv90bc31fd58af47abba4c0be5b28a9fb7"
  },
  "language_info": {
   "codemirror_mode": {
    "name": "ipython",
    "version": 3
   },
   "file_extension": ".py",
   "mimetype": "text/x-python",
   "name": "python",
   "nbconvert_exporter": "python",
   "pygments_lexer": "ipython3",
   "version": "3.7.4"
  }
 },
 "nbformat": 4,
 "nbformat_minor": 4
}

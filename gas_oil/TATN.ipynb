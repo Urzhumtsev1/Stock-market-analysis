{
 "cells": [
  {
   "cell_type": "markdown",
   "metadata": {},
   "source": [
    "# Измерение риска инвестирования"
   ]
  },
  {
   "cell_type": "code",
   "execution_count": 1,
   "metadata": {},
   "outputs": [],
   "source": [
    "from math import sqrt\n",
    "\n",
    "import pandas as pd\n",
    "import numpy as np\n",
    "import matplotlib.pyplot as plt\n",
    "from scipy.stats import norm"
   ]
  },
  {
   "cell_type": "markdown",
   "metadata": {},
   "source": [
    "## Располагаемые данные."
   ]
  },
  {
   "cell_type": "code",
   "execution_count": 2,
   "metadata": {},
   "outputs": [],
   "source": [
    "df = pd.read_csv('../data/TATN_quotes.csv')"
   ]
  },
  {
   "cell_type": "markdown",
   "metadata": {},
   "source": [
    "# Оценка реального и нормального распределения доходностей\n",
    "### Доходность год к году"
   ]
  },
  {
   "cell_type": "code",
   "execution_count": 3,
   "metadata": {},
   "outputs": [
    {
     "data": {
      "text/html": [
       "<div>\n",
       "<style scoped>\n",
       "    .dataframe tbody tr th:only-of-type {\n",
       "        vertical-align: middle;\n",
       "    }\n",
       "\n",
       "    .dataframe tbody tr th {\n",
       "        vertical-align: top;\n",
       "    }\n",
       "\n",
       "    .dataframe thead th {\n",
       "        text-align: right;\n",
       "    }\n",
       "</style>\n",
       "<table border=\"1\" class=\"dataframe\">\n",
       "  <thead>\n",
       "    <tr style=\"text-align: right;\">\n",
       "      <th></th>\n",
       "      <th>o</th>\n",
       "      <th>c</th>\n",
       "      <th>time</th>\n",
       "      <th>yield</th>\n",
       "    </tr>\n",
       "  </thead>\n",
       "  <tbody>\n",
       "    <tr>\n",
       "      <th>0</th>\n",
       "      <td>14.730</td>\n",
       "      <td>15.740</td>\n",
       "      <td>2001-12-01T07:00:00Z</td>\n",
       "      <td>NaN</td>\n",
       "    </tr>\n",
       "    <tr>\n",
       "      <th>1</th>\n",
       "      <td>24.680</td>\n",
       "      <td>23.690</td>\n",
       "      <td>2002-12-01T07:00:00Z</td>\n",
       "      <td>50.508259</td>\n",
       "    </tr>\n",
       "    <tr>\n",
       "      <th>2</th>\n",
       "      <td>30.160</td>\n",
       "      <td>32.850</td>\n",
       "      <td>2003-12-01T07:00:00Z</td>\n",
       "      <td>38.666104</td>\n",
       "    </tr>\n",
       "    <tr>\n",
       "      <th>3</th>\n",
       "      <td>42.205</td>\n",
       "      <td>40.979</td>\n",
       "      <td>2004-12-01T07:00:00Z</td>\n",
       "      <td>24.745814</td>\n",
       "    </tr>\n",
       "    <tr>\n",
       "      <th>4</th>\n",
       "      <td>98.001</td>\n",
       "      <td>95.223</td>\n",
       "      <td>2005-12-01T07:00:00Z</td>\n",
       "      <td>132.370238</td>\n",
       "    </tr>\n",
       "    <tr>\n",
       "      <th>5</th>\n",
       "      <td>129.000</td>\n",
       "      <td>122.020</td>\n",
       "      <td>2006-12-01T07:00:00Z</td>\n",
       "      <td>28.141310</td>\n",
       "    </tr>\n",
       "    <tr>\n",
       "      <th>6</th>\n",
       "      <td>145.330</td>\n",
       "      <td>148.490</td>\n",
       "      <td>2007-12-01T07:00:00Z</td>\n",
       "      <td>21.693165</td>\n",
       "    </tr>\n",
       "    <tr>\n",
       "      <th>7</th>\n",
       "      <td>45.630</td>\n",
       "      <td>55.260</td>\n",
       "      <td>2008-12-01T07:00:00Z</td>\n",
       "      <td>-62.785373</td>\n",
       "    </tr>\n",
       "    <tr>\n",
       "      <th>8</th>\n",
       "      <td>139.900</td>\n",
       "      <td>139.690</td>\n",
       "      <td>2009-12-01T07:00:00Z</td>\n",
       "      <td>152.786826</td>\n",
       "    </tr>\n",
       "    <tr>\n",
       "      <th>9</th>\n",
       "      <td>148.500</td>\n",
       "      <td>148.210</td>\n",
       "      <td>2010-11-01T07:00:00Z</td>\n",
       "      <td>6.099220</td>\n",
       "    </tr>\n",
       "    <tr>\n",
       "      <th>10</th>\n",
       "      <td>149.990</td>\n",
       "      <td>166.800</td>\n",
       "      <td>2011-11-01T07:00:00Z</td>\n",
       "      <td>12.543013</td>\n",
       "    </tr>\n",
       "    <tr>\n",
       "      <th>11</th>\n",
       "      <td>197.000</td>\n",
       "      <td>197.410</td>\n",
       "      <td>2012-11-01T07:00:00Z</td>\n",
       "      <td>18.351319</td>\n",
       "    </tr>\n",
       "    <tr>\n",
       "      <th>12</th>\n",
       "      <td>220.570</td>\n",
       "      <td>202.810</td>\n",
       "      <td>2013-11-01T07:00:00Z</td>\n",
       "      <td>2.735424</td>\n",
       "    </tr>\n",
       "    <tr>\n",
       "      <th>13</th>\n",
       "      <td>258.750</td>\n",
       "      <td>248.650</td>\n",
       "      <td>2014-11-01T07:00:00Z</td>\n",
       "      <td>22.602436</td>\n",
       "    </tr>\n",
       "    <tr>\n",
       "      <th>14</th>\n",
       "      <td>328.750</td>\n",
       "      <td>314.050</td>\n",
       "      <td>2015-11-01T07:00:00Z</td>\n",
       "      <td>26.302031</td>\n",
       "    </tr>\n",
       "    <tr>\n",
       "      <th>15</th>\n",
       "      <td>354.850</td>\n",
       "      <td>388.300</td>\n",
       "      <td>2016-11-01T07:00:00Z</td>\n",
       "      <td>23.642732</td>\n",
       "    </tr>\n",
       "    <tr>\n",
       "      <th>16</th>\n",
       "      <td>439.000</td>\n",
       "      <td>456.700</td>\n",
       "      <td>2017-11-01T07:00:00Z</td>\n",
       "      <td>17.615246</td>\n",
       "    </tr>\n",
       "    <tr>\n",
       "      <th>17</th>\n",
       "      <td>780.100</td>\n",
       "      <td>712.700</td>\n",
       "      <td>2018-11-01T07:00:00Z</td>\n",
       "      <td>56.054303</td>\n",
       "    </tr>\n",
       "    <tr>\n",
       "      <th>18</th>\n",
       "      <td>747.000</td>\n",
       "      <td>740.400</td>\n",
       "      <td>2019-11-01T07:00:00Z</td>\n",
       "      <td>3.886628</td>\n",
       "    </tr>\n",
       "    <tr>\n",
       "      <th>19</th>\n",
       "      <td>538.800</td>\n",
       "      <td>550.000</td>\n",
       "      <td>2020-04-01T07:00:00Z</td>\n",
       "      <td>-25.715829</td>\n",
       "    </tr>\n",
       "  </tbody>\n",
       "</table>\n",
       "</div>"
      ],
      "text/plain": [
       "          o        c                  time       yield\n",
       "0    14.730   15.740  2001-12-01T07:00:00Z         NaN\n",
       "1    24.680   23.690  2002-12-01T07:00:00Z   50.508259\n",
       "2    30.160   32.850  2003-12-01T07:00:00Z   38.666104\n",
       "3    42.205   40.979  2004-12-01T07:00:00Z   24.745814\n",
       "4    98.001   95.223  2005-12-01T07:00:00Z  132.370238\n",
       "5   129.000  122.020  2006-12-01T07:00:00Z   28.141310\n",
       "6   145.330  148.490  2007-12-01T07:00:00Z   21.693165\n",
       "7    45.630   55.260  2008-12-01T07:00:00Z  -62.785373\n",
       "8   139.900  139.690  2009-12-01T07:00:00Z  152.786826\n",
       "9   148.500  148.210  2010-11-01T07:00:00Z    6.099220\n",
       "10  149.990  166.800  2011-11-01T07:00:00Z   12.543013\n",
       "11  197.000  197.410  2012-11-01T07:00:00Z   18.351319\n",
       "12  220.570  202.810  2013-11-01T07:00:00Z    2.735424\n",
       "13  258.750  248.650  2014-11-01T07:00:00Z   22.602436\n",
       "14  328.750  314.050  2015-11-01T07:00:00Z   26.302031\n",
       "15  354.850  388.300  2016-11-01T07:00:00Z   23.642732\n",
       "16  439.000  456.700  2017-11-01T07:00:00Z   17.615246\n",
       "17  780.100  712.700  2018-11-01T07:00:00Z   56.054303\n",
       "18  747.000  740.400  2019-11-01T07:00:00Z    3.886628\n",
       "19  538.800  550.000  2020-04-01T07:00:00Z  -25.715829"
      ]
     },
     "execution_count": 3,
     "metadata": {},
     "output_type": "execute_result"
    }
   ],
   "source": [
    "df['yield'] = df['c'].pct_change() * 100\n",
    "df.loc[:, ['o', 'c', 'time','yield']] # 'o' - цена открытия, 'c' - цена закрытия"
   ]
  },
  {
   "cell_type": "markdown",
   "metadata": {},
   "source": [
    "### Мат. ожидание"
   ]
  },
  {
   "cell_type": "code",
   "execution_count": 4,
   "metadata": {},
   "outputs": [],
   "source": [
    "mu = df['yield'].mean()"
   ]
  },
  {
   "cell_type": "markdown",
   "metadata": {},
   "source": [
    "### Дисперсия и Стандартное отклонение"
   ]
  },
  {
   "cell_type": "code",
   "execution_count": 5,
   "metadata": {},
   "outputs": [],
   "source": [
    "dispersion = df['yield'].var()\n",
    "sigma = sqrt(dispersion)"
   ]
  },
  {
   "cell_type": "markdown",
   "metadata": {},
   "source": [
    "### Коэф. асимметрии и коэф. эксцесса"
   ]
  },
  {
   "cell_type": "code",
   "execution_count": 6,
   "metadata": {},
   "outputs": [],
   "source": [
    "skew = df['yield'].skew()\n",
    "kurtosis = df['yield'].kurt()"
   ]
  },
  {
   "cell_type": "markdown",
   "metadata": {},
   "source": [
    "## Сравнение реального и нормального распределения доходностей"
   ]
  },
  {
   "cell_type": "code",
   "execution_count": 7,
   "metadata": {},
   "outputs": [
    {
     "data": {
      "image/png": "[encoded data removed]",
      "text/plain": [
       "<Figure size 432x288 with 1 Axes>"
      ]
     },
     "metadata": {
      "needs_background": "light"
     },
     "output_type": "display_data"
    }
   ],
   "source": [
    "mn = mu - 5 * sigma \n",
    "xs = sorted(np.arange(mn, -mn, .05))\n",
    "ys = [norm.pdf(x, mu, sigma) for x in xs]\n",
    "h = sorted(np.asarray(df['yield'].dropna()))\n",
    "plt.plot(xs, ys, label='Normal distribution')\n",
    "plt.vlines(mu, 0, max(ys), label=f'$\\mu = {mu:.2f}$')\n",
    "plt.hist(h, density=True, histtype='stepfilled', alpha=0.3, label='Returns')\n",
    "plt.rcParams['figure.figsize'] = [10, 5]\n",
    "plt.legend()\n",
    "plt.show()"
   ]
  },
  {
   "cell_type": "markdown",
   "metadata": {},
   "source": [
    "## Рассчитаем вероятность получения доходности в заданных пределах"
   ]
  },
  {
   "cell_type": "code",
   "execution_count": 8,
   "metadata": {},
   "outputs": [],
   "source": [
    "def calc_returns(mu, sigma, i):\n",
    "    dt = mu - sigma*(i+1)\n",
    "    dt2 = mu + sigma*(i+1)\n",
    "    if dt > -100:\n",
    "        return (\n",
    "            {'dt':dt}, \n",
    "            {'dt2': dt2}, \n",
    "            {'probability':norm.cdf(dt2, mu, sigma) - norm.cdf(dt, mu, sigma)}\n",
    "        )\n",
    "    else: \n",
    "        return (\n",
    "            {'dt':-100}, \n",
    "            {'dt2':dt2}, \n",
    "            {'probability':norm.cdf(dt2, mu, sigma) - norm.cdf(dt, mu, sigma)}\n",
    "        )\n",
    "\n",
    "lst = [calc_returns(mu, sigma, i) for i in range(3)]"
   ]
  },
  {
   "cell_type": "code",
   "execution_count": 9,
   "metadata": {},
   "outputs": [
    {
     "name": "stdout",
     "output_type": "stream",
     "text": [
      "\n",
      "mu=28.96 \n",
      "sigma=47.86 \n",
      "skew=1.16 \n",
      "kurtosis=2.81\n",
      "\n",
      "Probability=68.27% for values: -18.90 and 76.82 \n",
      "Probability=95.45% for values: -66.75 and 124.67 \n",
      "Probability=99.73% for values: -100.00 and 172.53\n",
      "Bankrupt risk=0.352178536%\n"
     ]
    }
   ],
   "source": [
    "ll = [f'\\nProbability={i[2][\"probability\"]:.2%} for values: {i[0][\"dt\"]:.2f} and {i[1][\"dt2\"]:.2f}' for i in lst]\n",
    "print(\n",
    "    f'\\nmu={mu:.2f}', \n",
    "    f'\\nsigma={sigma:.2f}', \n",
    "    f'\\nskew={skew:.2f}', \n",
    "    f'\\nkurtosis={kurtosis:.2f}'\n",
    ")\n",
    "print(*ll)\n",
    "print(f'Bankrupt risk={norm.cdf(-100, mu, sigma):.9%}')"
   ]
  },
  {
   "cell_type": "markdown",
   "metadata": {},
   "source": [
    "## Рассчитаем изменение годовой доходности на различных временных интервалах"
   ]
  },
  {
   "cell_type": "code",
   "execution_count": 10,
   "metadata": {},
   "outputs": [],
   "source": [
    "def calc_period(year):\n",
    "    if year == 1:\n",
    "        return df['yield'].max(), df['yield'].mean(), df['yield'].min() \n",
    "    p_df = pd.DataFrame()\n",
    "    length = len(df)\n",
    "    n = 0\n",
    "    for i in range(length):\n",
    "        while i+year < length:\n",
    "            start_price = df.loc[i,'c']\n",
    "            end_price = df.loc[i+year,'c']\n",
    "            p_df.loc[i+n,'c'] = start_price\n",
    "            p_df.loc[i+n+1,'c'] = end_price\n",
    "            # среднегодовая доходность\n",
    "            p_df.loc[i+n+1,'yield'] = (pow((end_price/start_price), 1/(year+1)) - 1)*100 \n",
    "            n += year\n",
    "            break\n",
    "    return  p_df['yield'].max(), p_df['yield'].mean(), p_df['yield'].min()\n",
    "    "
   ]
  },
  {
   "cell_type": "code",
   "execution_count": 11,
   "metadata": {},
   "outputs": [
    {
     "data": {
      "text/html": [
       "<div>\n",
       "<style scoped>\n",
       "    .dataframe tbody tr th:only-of-type {\n",
       "        vertical-align: middle;\n",
       "    }\n",
       "\n",
       "    .dataframe tbody tr th {\n",
       "        vertical-align: top;\n",
       "    }\n",
       "\n",
       "    .dataframe thead th {\n",
       "        text-align: right;\n",
       "    }\n",
       "</style>\n",
       "<table border=\"1\" class=\"dataframe\">\n",
       "  <thead>\n",
       "    <tr style=\"text-align: right;\">\n",
       "      <th></th>\n",
       "      <th>Annual percentage yield</th>\n",
       "      <th>1 year</th>\n",
       "      <th>3 years</th>\n",
       "      <th>5 years</th>\n",
       "      <th>7 years</th>\n",
       "      <th>10 years</th>\n",
       "    </tr>\n",
       "  </thead>\n",
       "  <tbody>\n",
       "    <tr>\n",
       "      <th>0</th>\n",
       "      <td>Max</td>\n",
       "      <td>152.786826</td>\n",
       "      <td>41.593788</td>\n",
       "      <td>40.681735</td>\n",
       "      <td>24.831742</td>\n",
       "      <td>26.169439</td>\n",
       "    </tr>\n",
       "    <tr>\n",
       "      <th>1</th>\n",
       "      <td>Mean</td>\n",
       "      <td>28.960151</td>\n",
       "      <td>16.878744</td>\n",
       "      <td>17.122735</td>\n",
       "      <td>16.048992</td>\n",
       "      <td>16.951179</td>\n",
       "    </tr>\n",
       "    <tr>\n",
       "      <th>2</th>\n",
       "      <td>Min</td>\n",
       "      <td>-62.785373</td>\n",
       "      <td>-12.719494</td>\n",
       "      <td>4.860516</td>\n",
       "      <td>6.557076</td>\n",
       "      <td>10.753541</td>\n",
       "    </tr>\n",
       "  </tbody>\n",
       "</table>\n",
       "</div>"
      ],
      "text/plain": [
       "  Annual percentage yield      1 year    3 years    5 years    7 years  \\\n",
       "0                     Max  152.786826  41.593788  40.681735  24.831742   \n",
       "1                    Mean   28.960151  16.878744  17.122735  16.048992   \n",
       "2                     Min  -62.785373 -12.719494   4.860516   6.557076   \n",
       "\n",
       "    10 years  \n",
       "0  26.169439  \n",
       "1  16.951179  \n",
       "2  10.753541  "
      ]
     },
     "execution_count": 11,
     "metadata": {},
     "output_type": "execute_result"
    }
   ],
   "source": [
    "tbl_constr = {\n",
    "    'Annual percentage yield': ['Max', 'Mean', 'Min'], \n",
    "    '1 year': calc_period(1),\n",
    "    '3 years': calc_period(3),\n",
    "    '5 years': calc_period(5),\n",
    "    '7 years': calc_period(7),\n",
    "    '10 years': calc_period(10)\n",
    "}\n",
    "tbl_df = pd.DataFrame(data=tbl_constr)\n",
    "tbl_df"
   ]
  },
  {
   "cell_type": "markdown",
   "metadata": {},
   "source": [
    "## Построим диаграмму годовой доходности на различных временных интервалах"
   ]
  },
  {
   "cell_type": "code",
   "execution_count": 12,
   "metadata": {},
   "outputs": [
    {
     "data": {
      "image/png": "[encoded data removed]",
      "text/plain": [
       "<Figure size 720x360 with 1 Axes>"
      ]
     },
     "metadata": {
      "needs_background": "light"
     },
     "output_type": "display_data"
    }
   ],
   "source": [
    "xs = sorted(np.arange(1, 11, 1))\n",
    "ys_max = [calc_period(x)[0] for x in xs]\n",
    "ys_min = [calc_period(x)[2] for x in xs]\n",
    "\n",
    "from scipy.interpolate import splrep, splev\n",
    "\n",
    "bspl_max = splrep(xs, ys_max, s=1000)\n",
    "bspl_y_max = splev(xs, bspl_max)\n",
    "\n",
    "bspl_min = splrep(xs, ys_min, s=1000)\n",
    "bspl_y_min = splev(xs, bspl_min)\n",
    "\n",
    "plt.plot(xs, bspl_y_max, label='Max. yield', alpha=0.3, color='green')\n",
    "plt.plot(xs, bspl_y_min, label='Min. yield', alpha=0.3, color='red')\n",
    "plt.hlines(0, 0, 10, label=f'', alpha=0.6, linestyle='--')\n",
    "plt.rcParams['figure.figsize'] = [10, 5]\n",
    "plt.legend()\n",
    "plt.show()"
   ]
  }
 ],
 "metadata": {
  "kernelspec": {
   "display_name": "Python 3.7.4 32-bit ('env': venv)",
   "language": "python",
   "name": "python37432bitenvvenv90bc31fd58af47abba4c0be5b28a9fb7"
  },
  "language_info": {
   "codemirror_mode": {
    "name": "ipython",
    "version": 3
   },
   "file_extension": ".py",
   "mimetype": "text/x-python",
   "name": "python",
   "nbconvert_exporter": "python",
   "pygments_lexer": "ipython3",
   "version": "3.7.4"
  }
 },
 "nbformat": 4,
 "nbformat_minor": 4
}

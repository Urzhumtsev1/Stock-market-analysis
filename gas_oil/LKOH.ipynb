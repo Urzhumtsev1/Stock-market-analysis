{
 "cells": [
  {
   "cell_type": "markdown",
   "metadata": {},
   "source": [
    "# Измерение риска инвестирования"
   ]
  },
  {
   "cell_type": "code",
   "execution_count": 1,
   "metadata": {},
   "outputs": [],
   "source": [
    "from math import sqrt\n",
    "\n",
    "import pandas as pd\n",
    "import numpy as np\n",
    "import matplotlib.pyplot as plt\n",
    "from scipy.stats import norm"
   ]
  },
  {
   "cell_type": "markdown",
   "metadata": {},
   "source": [
    "## Располагаемые данные. Анализируемый период - 20 лет."
   ]
  },
  {
   "cell_type": "code",
   "execution_count": 2,
   "metadata": {},
   "outputs": [],
   "source": [
    "df = pd.read_csv('../data/LKOH_quotes.csv')"
   ]
  },
  {
   "cell_type": "markdown",
   "metadata": {},
   "source": [
    "# Оценка реального и нормального распределения доходностей\n",
    "### Доходность год к году"
   ]
  },
  {
   "cell_type": "code",
   "execution_count": 3,
   "metadata": {},
   "outputs": [
    {
     "data": {
      "text/html": [
       "<div>\n",
       "<style scoped>\n",
       "    .dataframe tbody tr th:only-of-type {\n",
       "        vertical-align: middle;\n",
       "    }\n",
       "\n",
       "    .dataframe tbody tr th {\n",
       "        vertical-align: top;\n",
       "    }\n",
       "\n",
       "    .dataframe thead th {\n",
       "        text-align: right;\n",
       "    }\n",
       "</style>\n",
       "<table border=\"1\" class=\"dataframe\">\n",
       "  <thead>\n",
       "    <tr style=\"text-align: right;\">\n",
       "      <th></th>\n",
       "      <th>o</th>\n",
       "      <th>c</th>\n",
       "      <th>time</th>\n",
       "      <th>yield</th>\n",
       "    </tr>\n",
       "  </thead>\n",
       "  <tbody>\n",
       "    <tr>\n",
       "      <th>0</th>\n",
       "      <td>398.01</td>\n",
       "      <td>357.00</td>\n",
       "      <td>2000-06-01T07:00:00Z</td>\n",
       "      <td>NaN</td>\n",
       "    </tr>\n",
       "    <tr>\n",
       "      <th>1</th>\n",
       "      <td>380.00</td>\n",
       "      <td>350.00</td>\n",
       "      <td>2001-06-01T07:00:00Z</td>\n",
       "      <td>-1.960784</td>\n",
       "    </tr>\n",
       "    <tr>\n",
       "      <th>2</th>\n",
       "      <td>556.34</td>\n",
       "      <td>510.00</td>\n",
       "      <td>2002-06-01T07:00:00Z</td>\n",
       "      <td>45.714286</td>\n",
       "    </tr>\n",
       "    <tr>\n",
       "      <th>3</th>\n",
       "      <td>562.95</td>\n",
       "      <td>599.92</td>\n",
       "      <td>2003-06-01T07:00:00Z</td>\n",
       "      <td>17.631373</td>\n",
       "    </tr>\n",
       "    <tr>\n",
       "      <th>4</th>\n",
       "      <td>802.00</td>\n",
       "      <td>760.66</td>\n",
       "      <td>2004-06-01T07:00:00Z</td>\n",
       "      <td>26.793572</td>\n",
       "    </tr>\n",
       "    <tr>\n",
       "      <th>5</th>\n",
       "      <td>984.00</td>\n",
       "      <td>1053.63</td>\n",
       "      <td>2005-06-01T07:00:00Z</td>\n",
       "      <td>38.515237</td>\n",
       "    </tr>\n",
       "    <tr>\n",
       "      <th>6</th>\n",
       "      <td>2100.00</td>\n",
       "      <td>2229.04</td>\n",
       "      <td>2006-06-01T07:00:00Z</td>\n",
       "      <td>111.558137</td>\n",
       "    </tr>\n",
       "    <tr>\n",
       "      <th>7</th>\n",
       "      <td>1965.00</td>\n",
       "      <td>1969.62</td>\n",
       "      <td>2007-06-01T07:00:00Z</td>\n",
       "      <td>-11.638194</td>\n",
       "    </tr>\n",
       "    <tr>\n",
       "      <th>8</th>\n",
       "      <td>2645.00</td>\n",
       "      <td>2318.01</td>\n",
       "      <td>2008-06-01T07:00:00Z</td>\n",
       "      <td>17.688184</td>\n",
       "    </tr>\n",
       "    <tr>\n",
       "      <th>9</th>\n",
       "      <td>1680.00</td>\n",
       "      <td>1379.48</td>\n",
       "      <td>2009-06-01T07:00:00Z</td>\n",
       "      <td>-40.488609</td>\n",
       "    </tr>\n",
       "    <tr>\n",
       "      <th>10</th>\n",
       "      <td>1508.00</td>\n",
       "      <td>1510.00</td>\n",
       "      <td>2010-06-01T07:00:00Z</td>\n",
       "      <td>9.461536</td>\n",
       "    </tr>\n",
       "    <tr>\n",
       "      <th>11</th>\n",
       "      <td>1903.00</td>\n",
       "      <td>1819.50</td>\n",
       "      <td>2011-05-01T07:00:00Z</td>\n",
       "      <td>20.496689</td>\n",
       "    </tr>\n",
       "    <tr>\n",
       "      <th>12</th>\n",
       "      <td>1801.50</td>\n",
       "      <td>1729.10</td>\n",
       "      <td>2012-05-01T07:00:00Z</td>\n",
       "      <td>-4.968398</td>\n",
       "    </tr>\n",
       "    <tr>\n",
       "      <th>13</th>\n",
       "      <td>1978.40</td>\n",
       "      <td>1878.20</td>\n",
       "      <td>2013-05-01T07:00:00Z</td>\n",
       "      <td>8.622983</td>\n",
       "    </tr>\n",
       "    <tr>\n",
       "      <th>14</th>\n",
       "      <td>1865.00</td>\n",
       "      <td>1968.00</td>\n",
       "      <td>2014-05-01T07:00:00Z</td>\n",
       "      <td>4.781173</td>\n",
       "    </tr>\n",
       "    <tr>\n",
       "      <th>15</th>\n",
       "      <td>2657.00</td>\n",
       "      <td>2461.30</td>\n",
       "      <td>2015-05-01T07:00:00Z</td>\n",
       "      <td>25.066057</td>\n",
       "    </tr>\n",
       "    <tr>\n",
       "      <th>16</th>\n",
       "      <td>2716.00</td>\n",
       "      <td>2570.00</td>\n",
       "      <td>2016-05-01T07:00:00Z</td>\n",
       "      <td>4.416365</td>\n",
       "    </tr>\n",
       "    <tr>\n",
       "      <th>17</th>\n",
       "      <td>2835.50</td>\n",
       "      <td>2753.00</td>\n",
       "      <td>2017-05-01T07:00:00Z</td>\n",
       "      <td>7.120623</td>\n",
       "    </tr>\n",
       "    <tr>\n",
       "      <th>18</th>\n",
       "      <td>4231.50</td>\n",
       "      <td>4243.00</td>\n",
       "      <td>2018-05-01T07:00:00Z</td>\n",
       "      <td>54.122775</td>\n",
       "    </tr>\n",
       "    <tr>\n",
       "      <th>19</th>\n",
       "      <td>5510.00</td>\n",
       "      <td>5268.50</td>\n",
       "      <td>2019-05-01T07:00:00Z</td>\n",
       "      <td>24.169220</td>\n",
       "    </tr>\n",
       "    <tr>\n",
       "      <th>20</th>\n",
       "      <td>4596.00</td>\n",
       "      <td>4832.50</td>\n",
       "      <td>2020-04-01T07:00:00Z</td>\n",
       "      <td>-8.275600</td>\n",
       "    </tr>\n",
       "  </tbody>\n",
       "</table>\n",
       "</div>"
      ],
      "text/plain": [
       "          o        c                  time       yield\n",
       "0    398.01   357.00  2000-06-01T07:00:00Z         NaN\n",
       "1    380.00   350.00  2001-06-01T07:00:00Z   -1.960784\n",
       "2    556.34   510.00  2002-06-01T07:00:00Z   45.714286\n",
       "3    562.95   599.92  2003-06-01T07:00:00Z   17.631373\n",
       "4    802.00   760.66  2004-06-01T07:00:00Z   26.793572\n",
       "5    984.00  1053.63  2005-06-01T07:00:00Z   38.515237\n",
       "6   2100.00  2229.04  2006-06-01T07:00:00Z  111.558137\n",
       "7   1965.00  1969.62  2007-06-01T07:00:00Z  -11.638194\n",
       "8   2645.00  2318.01  2008-06-01T07:00:00Z   17.688184\n",
       "9   1680.00  1379.48  2009-06-01T07:00:00Z  -40.488609\n",
       "10  1508.00  1510.00  2010-06-01T07:00:00Z    9.461536\n",
       "11  1903.00  1819.50  2011-05-01T07:00:00Z   20.496689\n",
       "12  1801.50  1729.10  2012-05-01T07:00:00Z   -4.968398\n",
       "13  1978.40  1878.20  2013-05-01T07:00:00Z    8.622983\n",
       "14  1865.00  1968.00  2014-05-01T07:00:00Z    4.781173\n",
       "15  2657.00  2461.30  2015-05-01T07:00:00Z   25.066057\n",
       "16  2716.00  2570.00  2016-05-01T07:00:00Z    4.416365\n",
       "17  2835.50  2753.00  2017-05-01T07:00:00Z    7.120623\n",
       "18  4231.50  4243.00  2018-05-01T07:00:00Z   54.122775\n",
       "19  5510.00  5268.50  2019-05-01T07:00:00Z   24.169220\n",
       "20  4596.00  4832.50  2020-04-01T07:00:00Z   -8.275600"
      ]
     },
     "execution_count": 3,
     "metadata": {},
     "output_type": "execute_result"
    }
   ],
   "source": [
    "df['yield'] = df['c'].pct_change() * 100\n",
    "df.loc[:, ['o', 'c', 'time','yield']] # 'o' - цена открытия, 'c' - цена закрытия"
   ]
  },
  {
   "cell_type": "markdown",
   "metadata": {},
   "source": [
    "### Мат. ожидание"
   ]
  },
  {
   "cell_type": "code",
   "execution_count": 4,
   "metadata": {},
   "outputs": [],
   "source": [
    "mu = df['yield'].mean()"
   ]
  },
  {
   "cell_type": "markdown",
   "metadata": {},
   "source": [
    "### Дисперсия и Стандартное отклонение"
   ]
  },
  {
   "cell_type": "code",
   "execution_count": 5,
   "metadata": {},
   "outputs": [],
   "source": [
    "dispersion = df['yield'].var()\n",
    "sigma = sqrt(dispersion)"
   ]
  },
  {
   "cell_type": "markdown",
   "metadata": {},
   "source": [
    "### Коэф. асимметрии и коэф. эксцесса"
   ]
  },
  {
   "cell_type": "code",
   "execution_count": 6,
   "metadata": {},
   "outputs": [],
   "source": [
    "skew = df['yield'].skew()\n",
    "kurtosis = df['yield'].kurt()"
   ]
  },
  {
   "cell_type": "markdown",
   "metadata": {},
   "source": [
    "## Сравнение реального и нормального распределения доходностей"
   ]
  },
  {
   "cell_type": "code",
   "execution_count": 7,
   "metadata": {},
   "outputs": [
    {
     "data": {
      "image/png": "[encoded data removed]",
      "text/plain": [
       "<Figure size 432x288 with 1 Axes>"
      ]
     },
     "metadata": {
      "needs_background": "light"
     },
     "output_type": "display_data"
    }
   ],
   "source": [
    "mn = mu - 5 * sigma \n",
    "xs = sorted(np.arange(mn, -mn, .05))\n",
    "ys = [norm.pdf(x, mu, sigma) for x in xs]\n",
    "h = sorted(np.asarray(df['yield'].dropna()))\n",
    "plt.plot(xs, ys, label='Normal distribution')\n",
    "plt.vlines(mu, 0, max(ys), label=f'$\\mu = {mu:.2f}$')\n",
    "plt.hist(h, density=True, histtype='stepfilled', alpha=0.3, label='Returns')\n",
    "plt.rcParams['figure.figsize'] = [10, 5]\n",
    "plt.legend()\n",
    "plt.show()"
   ]
  },
  {
   "cell_type": "markdown",
   "metadata": {},
   "source": [
    "## Расчитаем вероятность получения доходности в заданных пределах"
   ]
  },
  {
   "cell_type": "code",
   "execution_count": 8,
   "metadata": {},
   "outputs": [],
   "source": [
    "def calc_returns(mu, sigma, i):\n",
    "    dt = mu - sigma*(i+1)\n",
    "    dt2 = mu + sigma*(i+1)\n",
    "    if dt > -100:\n",
    "        return (\n",
    "            {'dt':dt}, \n",
    "            {'dt2': dt2}, \n",
    "            {'probability':norm.cdf(dt2, mu, sigma) - norm.cdf(dt, mu, sigma)}\n",
    "        )\n",
    "    else: \n",
    "        return (\n",
    "            {'dt':-100}, \n",
    "            {'dt2':dt2}, \n",
    "            {'probability':norm.cdf(dt2, mu, sigma) - norm.cdf(dt, mu, sigma)}\n",
    "        )\n",
    "\n",
    "lst = [calc_returns(mu, sigma, i) for i in range(3)]"
   ]
  },
  {
   "cell_type": "code",
   "execution_count": 9,
   "metadata": {},
   "outputs": [
    {
     "name": "stdout",
     "output_type": "stream",
     "text": [
      "\n",
      "mu=17.44 \n",
      "sigma=30.75 \n",
      "skew=1.32 \n",
      "kurtosis=4.06\n",
      "\n",
      "Probability=68.27% for values: -13.31 and 48.19 \n",
      "Probability=95.45% for values: -44.06 and 78.94 \n",
      "Probability=99.73% for values: -74.81 and 109.69\n",
      "Bankrupt risk=0.006696215%\n"
     ]
    }
   ],
   "source": [
    "ll = [f'\\nProbability={i[2][\"probability\"]:.2%} for values: {i[0][\"dt\"]:.2f} and {i[1][\"dt2\"]:.2f}' for i in lst]\n",
    "print(\n",
    "    f'\\nmu={mu:.2f}', \n",
    "    f'\\nsigma={sigma:.2f}', \n",
    "    f'\\nskew={skew:.2f}', \n",
    "    f'\\nkurtosis={kurtosis:.2f}'\n",
    ")\n",
    "print(*ll)\n",
    "print(f'Bankrupt risk={norm.cdf(-100, mu, sigma):.9%}')"
   ]
  },
  {
   "cell_type": "markdown",
   "metadata": {},
   "source": [
    "## Расчитаем изменение годовой доходности на различных временных интервалах"
   ]
  },
  {
   "cell_type": "code",
   "execution_count": 10,
   "metadata": {},
   "outputs": [],
   "source": [
    "def calc_period(year):\n",
    "    if year == 1:\n",
    "        return df['yield'].max(), df['yield'].mean(), df['yield'].min() \n",
    "    p_df = pd.DataFrame()\n",
    "    length = len(df)\n",
    "    n = 0\n",
    "    for i in range(length):\n",
    "        while i+year < length:\n",
    "            start_price = df.loc[i,'c']\n",
    "            end_price = df.loc[i+year,'c']\n",
    "            p_df.loc[i+n,'c'] = start_price\n",
    "            p_df.loc[i+n+1,'c'] = end_price\n",
    "            # среднегодовая доходность\n",
    "            p_df.loc[i+n+1,'yield'] = (pow((end_price/start_price), 1/(year+1)) - 1)*100 \n",
    "            n += year\n",
    "            break\n",
    "    return  p_df['yield'].max(), p_df['yield'].mean(), p_df['yield'].min()\n",
    "    "
   ]
  },
  {
   "cell_type": "code",
   "execution_count": 11,
   "metadata": {},
   "outputs": [
    {
     "data": {
      "text/html": [
       "<div>\n",
       "<style scoped>\n",
       "    .dataframe tbody tr th:only-of-type {\n",
       "        vertical-align: middle;\n",
       "    }\n",
       "\n",
       "    .dataframe tbody tr th {\n",
       "        vertical-align: top;\n",
       "    }\n",
       "\n",
       "    .dataframe thead th {\n",
       "        text-align: right;\n",
       "    }\n",
       "</style>\n",
       "<table border=\"1\" class=\"dataframe\">\n",
       "  <thead>\n",
       "    <tr style=\"text-align: right;\">\n",
       "      <th></th>\n",
       "      <th>Annual percentage yield</th>\n",
       "      <th>1 year</th>\n",
       "      <th>3 years</th>\n",
       "      <th>5 years</th>\n",
       "      <th>7 years</th>\n",
       "      <th>10 years</th>\n",
       "    </tr>\n",
       "  </thead>\n",
       "  <tbody>\n",
       "    <tr>\n",
       "      <th>0</th>\n",
       "      <td>Max</td>\n",
       "      <td>111.558137</td>\n",
       "      <td>38.837291</td>\n",
       "      <td>36.147071</td>\n",
       "      <td>26.657499</td>\n",
       "      <td>16.166356</td>\n",
       "    </tr>\n",
       "    <tr>\n",
       "      <th>1</th>\n",
       "      <td>Mean</td>\n",
       "      <td>17.441331</td>\n",
       "      <td>11.550857</td>\n",
       "      <td>11.686469</td>\n",
       "      <td>10.499412</td>\n",
       "      <td>9.458514</td>\n",
       "    </tr>\n",
       "    <tr>\n",
       "      <th>2</th>\n",
       "      <td>Min</td>\n",
       "      <td>-40.488609</td>\n",
       "      <td>-11.304949</td>\n",
       "      <td>-3.445818</td>\n",
       "      <td>-2.117963</td>\n",
       "      <td>1.302361</td>\n",
       "    </tr>\n",
       "  </tbody>\n",
       "</table>\n",
       "</div>"
      ],
      "text/plain": [
       "  Annual percentage yield      1 year    3 years    5 years    7 years  \\\n",
       "0                     Max  111.558137  38.837291  36.147071  26.657499   \n",
       "1                    Mean   17.441331  11.550857  11.686469  10.499412   \n",
       "2                     Min  -40.488609 -11.304949  -3.445818  -2.117963   \n",
       "\n",
       "    10 years  \n",
       "0  16.166356  \n",
       "1   9.458514  \n",
       "2   1.302361  "
      ]
     },
     "execution_count": 11,
     "metadata": {},
     "output_type": "execute_result"
    }
   ],
   "source": [
    "tbl_constr = {\n",
    "    'Annual percentage yield': ['Max', 'Mean', 'Min'], \n",
    "    '1 year': calc_period(1),\n",
    "    '3 years': calc_period(3),\n",
    "    '5 years': calc_period(5),\n",
    "    '7 years': calc_period(7),\n",
    "    '10 years': calc_period(10)\n",
    "}\n",
    "tbl_df = pd.DataFrame(data=tbl_constr)\n",
    "tbl_df"
   ]
  },
  {
   "cell_type": "markdown",
   "metadata": {},
   "source": [
    "## Построим диаграмму годовой доходности на различных временных интервалах"
   ]
  },
  {
   "cell_type": "code",
   "execution_count": 12,
   "metadata": {},
   "outputs": [
    {
     "data": {
      "image/png": "[encoded data removed]",
      "text/plain": [
       "<Figure size 720x360 with 1 Axes>"
      ]
     },
     "metadata": {
      "needs_background": "light"
     },
     "output_type": "display_data"
    }
   ],
   "source": [
    "xs = sorted(np.arange(1, 11, 1))\n",
    "ys_max = [calc_period(x)[0] for x in xs]\n",
    "ys_min = [calc_period(x)[2] for x in xs]\n",
    "\n",
    "from scipy.interpolate import splrep, splev\n",
    "\n",
    "bspl_max = splrep(xs, ys_max, s=1000)\n",
    "bspl_y_max = splev(xs, bspl_max)\n",
    "\n",
    "bspl_min = splrep(xs, ys_min, s=1000)\n",
    "bspl_y_min = splev(xs, bspl_min)\n",
    "\n",
    "plt.plot(xs, bspl_y_max, label='Max. yield', alpha=0.3, color='green')\n",
    "plt.plot(xs, bspl_y_min, label='Min. yield', alpha=0.3, color='red')\n",
    "plt.hlines(0, 0, 10, label=f'', alpha=0.6, linestyle='--')\n",
    "plt.rcParams['figure.figsize'] = [10, 5]\n",
    "plt.legend()\n",
    "plt.show()"
   ]
  },
  {
   "cell_type": "markdown",
   "metadata": {},
   "source": [
    "## Интерпретация полученных результатов"
   ]
  },
  {
   "cell_type": "markdown",
   "metadata": {},
   "source": [
    "**Важно:** Анализ не учитывает дивиденды, ориентируюсь только на рыночную стоимость акций. \n",
    "\n",
    "Среднегодовая доходность по акциям составляет 17.44%, волатильность - 30.75%.\n",
    "\n",
    "Вероятность, в течении года, получить доходность (убыток) в интервале (-13.31%, 48.19%) составляет 68.27%, в интервале (-44.06%, 78.9%) составляет 95.45% и в интервале (-74.81%, 109.69%) составляет 99.73%. Вероятность технического банкротства 0.006696215%. В течении года можно наблюдать просадки более 70%, нужно быть к этому психологически готовым, но так же важно понимать, что акция уже потеряла 30% с начала кризиса.\n",
    "\n",
    "Представленный график сравнения нормального и реального распределения доходности позволяет утверждать, что реальное распределение достаточно отдален. С одной стороны это показывает на отсутствие \"зрелости\" акции, с другой стороны, существенная правосторонняя асимметрия (1.32) увеличивает вероятность получения более высоких доходностей, чем это показывает нормальное распределение. Так же мы наблюдаем значительное занижение вершины нормального распределения, что подтверждает коэффициент эксцесса (4.06). В данном случае это играет в пользу Лукойла относительно других нефтяников. Например коэф. эксцесса Роснефть - (0.15), Татнефть - (2.81).\n",
    "\n",
    "Анализ диаграммы годовой доходности на различных временных интервалах показывает, что инвестирование сроком более чем на 4 года почти выводит минимальную доходность в зону положительных значений, что указывает на ориентировочный горизонт инвестирования.\n",
    "\n"
   ]
  }
 ],
 "metadata": {
  "kernelspec": {
   "display_name": "Python 3.7.4 32-bit ('env': venv)",
   "language": "python",
   "name": "python37432bitenvvenv90bc31fd58af47abba4c0be5b28a9fb7"
  },
  "language_info": {
   "codemirror_mode": {
    "name": "ipython",
    "version": 3
   },
   "file_extension": ".py",
   "mimetype": "text/x-python",
   "name": "python",
   "nbconvert_exporter": "python",
   "pygments_lexer": "ipython3",
   "version": "3.7.4"
  }
 },
 "nbformat": 4,
 "nbformat_minor": 4
}

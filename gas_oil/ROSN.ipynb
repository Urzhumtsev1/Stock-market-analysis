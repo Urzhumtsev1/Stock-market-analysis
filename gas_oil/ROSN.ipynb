{
 "cells": [
  {
   "cell_type": "markdown",
   "metadata": {},
   "source": [
    "# Измерение риска инвестирования"
   ]
  },
  {
   "cell_type": "code",
   "execution_count": 1,
   "metadata": {},
   "outputs": [],
   "source": [
    "from math import sqrt\n",
    "\n",
    "import pandas as pd\n",
    "import numpy as np\n",
    "import matplotlib.pyplot as plt\n",
    "from scipy.stats import norm"
   ]
  },
  {
   "cell_type": "markdown",
   "metadata": {},
   "source": [
    "## Располагаемые данные."
   ]
  },
  {
   "cell_type": "code",
   "execution_count": 2,
   "metadata": {},
   "outputs": [],
   "source": [
    "df = pd.read_csv('../data/ROSN_quotes.csv')"
   ]
  },
  {
   "cell_type": "markdown",
   "metadata": {},
   "source": [
    "# Оценка реального и нормального распределения доходностей\n",
    "### Доходность год к году"
   ]
  },
  {
   "cell_type": "code",
   "execution_count": 3,
   "metadata": {},
   "outputs": [
    {
     "data": {
      "text/html": [
       "<div>\n",
       "<style scoped>\n",
       "    .dataframe tbody tr th:only-of-type {\n",
       "        vertical-align: middle;\n",
       "    }\n",
       "\n",
       "    .dataframe tbody tr th {\n",
       "        vertical-align: top;\n",
       "    }\n",
       "\n",
       "    .dataframe thead th {\n",
       "        text-align: right;\n",
       "    }\n",
       "</style>\n",
       "<table border=\"1\" class=\"dataframe\">\n",
       "  <thead>\n",
       "    <tr style=\"text-align: right;\">\n",
       "      <th></th>\n",
       "      <th>o</th>\n",
       "      <th>c</th>\n",
       "      <th>time</th>\n",
       "      <th>yield</th>\n",
       "    </tr>\n",
       "  </thead>\n",
       "  <tbody>\n",
       "    <tr>\n",
       "      <th>0</th>\n",
       "      <td>203.24</td>\n",
       "      <td>202.60</td>\n",
       "      <td>2006-07-01T07:00:00Z</td>\n",
       "      <td>NaN</td>\n",
       "    </tr>\n",
       "    <tr>\n",
       "      <th>1</th>\n",
       "      <td>206.13</td>\n",
       "      <td>213.36</td>\n",
       "      <td>2007-07-01T07:00:00Z</td>\n",
       "      <td>5.310958</td>\n",
       "    </tr>\n",
       "    <tr>\n",
       "      <th>2</th>\n",
       "      <td>272.00</td>\n",
       "      <td>245.90</td>\n",
       "      <td>2008-07-01T07:00:00Z</td>\n",
       "      <td>15.251219</td>\n",
       "    </tr>\n",
       "    <tr>\n",
       "      <th>3</th>\n",
       "      <td>170.50</td>\n",
       "      <td>190.87</td>\n",
       "      <td>2009-07-01T07:00:00Z</td>\n",
       "      <td>-22.379016</td>\n",
       "    </tr>\n",
       "    <tr>\n",
       "      <th>4</th>\n",
       "      <td>222.32</td>\n",
       "      <td>192.79</td>\n",
       "      <td>2010-06-01T07:00:00Z</td>\n",
       "      <td>1.005920</td>\n",
       "    </tr>\n",
       "    <tr>\n",
       "      <th>5</th>\n",
       "      <td>242.34</td>\n",
       "      <td>236.17</td>\n",
       "      <td>2011-06-01T07:00:00Z</td>\n",
       "      <td>22.501167</td>\n",
       "    </tr>\n",
       "    <tr>\n",
       "      <th>6</th>\n",
       "      <td>208.00</td>\n",
       "      <td>204.50</td>\n",
       "      <td>2012-06-01T07:00:00Z</td>\n",
       "      <td>-13.409832</td>\n",
       "    </tr>\n",
       "    <tr>\n",
       "      <th>7</th>\n",
       "      <td>209.90</td>\n",
       "      <td>226.90</td>\n",
       "      <td>2013-06-01T07:00:00Z</td>\n",
       "      <td>10.953545</td>\n",
       "    </tr>\n",
       "    <tr>\n",
       "      <th>8</th>\n",
       "      <td>227.90</td>\n",
       "      <td>249.30</td>\n",
       "      <td>2014-06-01T07:00:00Z</td>\n",
       "      <td>9.872190</td>\n",
       "    </tr>\n",
       "    <tr>\n",
       "      <th>9</th>\n",
       "      <td>236.40</td>\n",
       "      <td>232.00</td>\n",
       "      <td>2015-06-01T07:00:00Z</td>\n",
       "      <td>-6.939430</td>\n",
       "    </tr>\n",
       "    <tr>\n",
       "      <th>10</th>\n",
       "      <td>316.00</td>\n",
       "      <td>330.00</td>\n",
       "      <td>2016-06-01T07:00:00Z</td>\n",
       "      <td>42.241379</td>\n",
       "    </tr>\n",
       "    <tr>\n",
       "      <th>11</th>\n",
       "      <td>301.75</td>\n",
       "      <td>323.00</td>\n",
       "      <td>2017-06-01T07:00:00Z</td>\n",
       "      <td>-2.121212</td>\n",
       "    </tr>\n",
       "    <tr>\n",
       "      <th>12</th>\n",
       "      <td>384.60</td>\n",
       "      <td>396.15</td>\n",
       "      <td>2018-06-01T07:00:00Z</td>\n",
       "      <td>22.647059</td>\n",
       "    </tr>\n",
       "    <tr>\n",
       "      <th>13</th>\n",
       "      <td>428.00</td>\n",
       "      <td>414.50</td>\n",
       "      <td>2019-06-01T07:00:00Z</td>\n",
       "      <td>4.632084</td>\n",
       "    </tr>\n",
       "    <tr>\n",
       "      <th>14</th>\n",
       "      <td>308.00</td>\n",
       "      <td>335.65</td>\n",
       "      <td>2020-04-01T07:00:00Z</td>\n",
       "      <td>-19.022919</td>\n",
       "    </tr>\n",
       "  </tbody>\n",
       "</table>\n",
       "</div>"
      ],
      "text/plain": [
       "         o       c                  time      yield\n",
       "0   203.24  202.60  2006-07-01T07:00:00Z        NaN\n",
       "1   206.13  213.36  2007-07-01T07:00:00Z   5.310958\n",
       "2   272.00  245.90  2008-07-01T07:00:00Z  15.251219\n",
       "3   170.50  190.87  2009-07-01T07:00:00Z -22.379016\n",
       "4   222.32  192.79  2010-06-01T07:00:00Z   1.005920\n",
       "5   242.34  236.17  2011-06-01T07:00:00Z  22.501167\n",
       "6   208.00  204.50  2012-06-01T07:00:00Z -13.409832\n",
       "7   209.90  226.90  2013-06-01T07:00:00Z  10.953545\n",
       "8   227.90  249.30  2014-06-01T07:00:00Z   9.872190\n",
       "9   236.40  232.00  2015-06-01T07:00:00Z  -6.939430\n",
       "10  316.00  330.00  2016-06-01T07:00:00Z  42.241379\n",
       "11  301.75  323.00  2017-06-01T07:00:00Z  -2.121212\n",
       "12  384.60  396.15  2018-06-01T07:00:00Z  22.647059\n",
       "13  428.00  414.50  2019-06-01T07:00:00Z   4.632084\n",
       "14  308.00  335.65  2020-04-01T07:00:00Z -19.022919"
      ]
     },
     "execution_count": 3,
     "metadata": {},
     "output_type": "execute_result"
    }
   ],
   "source": [
    "df['yield'] = df['c'].pct_change() * 100\n",
    "df.loc[:, ['o', 'c', 'time','yield']] # 'o' - цена открытия, 'c' - цена закрытия"
   ]
  },
  {
   "cell_type": "markdown",
   "metadata": {},
   "source": [
    "### Мат. ожидание"
   ]
  },
  {
   "cell_type": "code",
   "execution_count": 4,
   "metadata": {},
   "outputs": [],
   "source": [
    "mu = df['yield'].mean()"
   ]
  },
  {
   "cell_type": "markdown",
   "metadata": {},
   "source": [
    "### Дисперсия и Стандартное отклонение"
   ]
  },
  {
   "cell_type": "code",
   "execution_count": 5,
   "metadata": {},
   "outputs": [],
   "source": [
    "dispersion = df['yield'].var()\n",
    "sigma = sqrt(dispersion)"
   ]
  },
  {
   "cell_type": "markdown",
   "metadata": {},
   "source": [
    "### Коэф. асимметрии и коэф. эксцесса"
   ]
  },
  {
   "cell_type": "code",
   "execution_count": 6,
   "metadata": {},
   "outputs": [],
   "source": [
    "skew = df['yield'].skew()\n",
    "kurtosis = df['yield'].kurt()"
   ]
  },
  {
   "cell_type": "markdown",
   "metadata": {},
   "source": [
    "## Сравнение реального и нормального распределения доходностей"
   ]
  },
  {
   "cell_type": "code",
   "execution_count": 7,
   "metadata": {},
   "outputs": [
    {
     "data": {
      "image/png": "[encoded data removed]",
      "text/plain": [
       "<Figure size 432x288 with 1 Axes>"
      ]
     },
     "metadata": {
      "needs_background": "light"
     },
     "output_type": "display_data"
    }
   ],
   "source": [
    "mn = mu - 5 * sigma \n",
    "xs = sorted(np.arange(mn, -mn, .05))\n",
    "ys = [norm.pdf(x, mu, sigma) for x in xs]\n",
    "h = sorted(np.asarray(df['yield'].dropna()))\n",
    "plt.plot(xs, ys, label='Normal distribution')\n",
    "plt.vlines(mu, 0, max(ys), label=f'$\\mu = {mu:.2f}$')\n",
    "plt.hist(h, density=True, histtype='stepfilled', alpha=0.3, label='Returns')\n",
    "plt.rcParams['figure.figsize'] = [10, 5]\n",
    "plt.legend()\n",
    "plt.show()"
   ]
  },
  {
   "cell_type": "markdown",
   "metadata": {},
   "source": [
    "## Расчитаем вероятность получения доходности в заданных пределах"
   ]
  },
  {
   "cell_type": "code",
   "execution_count": 8,
   "metadata": {},
   "outputs": [],
   "source": [
    "def calc_returns(mu, sigma, i):\n",
    "    dt = mu - sigma*(i+1)\n",
    "    dt2 = mu + sigma*(i+1)\n",
    "    if dt > -100:\n",
    "        return (\n",
    "            {'dt':dt}, \n",
    "            {'dt2': dt2}, \n",
    "            {'probability':norm.cdf(dt2, mu, sigma) - norm.cdf(dt, mu, sigma)}\n",
    "        )\n",
    "    else: \n",
    "        return (\n",
    "            {'dt':-100}, \n",
    "            {'dt2':dt2}, \n",
    "            {'probability':norm.cdf(dt2, mu, sigma) - norm.cdf(dt, mu, sigma)}\n",
    "        )\n",
    "\n",
    "lst = [calc_returns(mu, sigma, i) for i in range(3)]"
   ]
  },
  {
   "cell_type": "code",
   "execution_count": 9,
   "metadata": {},
   "outputs": [
    {
     "name": "stdout",
     "output_type": "stream",
     "text": [
      "\n",
      "mu=5.04 \n",
      "sigma=17.64 \n",
      "skew=0.34 \n",
      "kurtosis=0.15\n",
      "\n",
      "Probability=68.27% for values: -12.60 and 22.68 \n",
      "Probability=95.45% for values: -30.24 and 40.31 \n",
      "Probability=99.73% for values: -47.87 and 57.95\n",
      "Bankrupt risk=0.000000130%\n"
     ]
    }
   ],
   "source": [
    "ll = [f'\\nProbability={i[2][\"probability\"]:.2%} for values: {i[0][\"dt\"]:.2f} and {i[1][\"dt2\"]:.2f}' for i in lst]\n",
    "print(\n",
    "    f'\\nmu={mu:.2f}', \n",
    "    f'\\nsigma={sigma:.2f}', \n",
    "    f'\\nskew={skew:.2f}', \n",
    "    f'\\nkurtosis={kurtosis:.2f}'\n",
    ")\n",
    "print(*ll)\n",
    "print(f'Bankrupt risk={norm.cdf(-100, mu, sigma):.9%}')"
   ]
  },
  {
   "cell_type": "markdown",
   "metadata": {},
   "source": [
    "## Расчитаем изменение годовой доходности на различных временных интервалах"
   ]
  },
  {
   "cell_type": "code",
   "execution_count": 10,
   "metadata": {},
   "outputs": [],
   "source": [
    "def calc_period(year):\n",
    "    if year == 1:\n",
    "        return df['yield'].max(), df['yield'].mean(), df['yield'].min() \n",
    "    p_df = pd.DataFrame()\n",
    "    length = len(df)\n",
    "    n = 0\n",
    "    for i in range(length):\n",
    "        while i+year < length:\n",
    "            start_price = df.loc[i,'c']\n",
    "            end_price = df.loc[i+year,'c']\n",
    "            p_df.loc[i+n,'c'] = start_price\n",
    "            p_df.loc[i+n+1,'c'] = end_price\n",
    "            # среднегодовая доходность\n",
    "            p_df.loc[i+n+1,'yield'] = (pow((end_price/start_price), 1/(year+1)) - 1)*100 \n",
    "            n += year\n",
    "            break\n",
    "    return  p_df['yield'].max(), p_df['yield'].mean(), p_df['yield'].min()\n",
    "    "
   ]
  },
  {
   "cell_type": "code",
   "execution_count": 11,
   "metadata": {},
   "outputs": [
    {
     "data": {
      "text/html": [
       "<div>\n",
       "<style scoped>\n",
       "    .dataframe tbody tr th:only-of-type {\n",
       "        vertical-align: middle;\n",
       "    }\n",
       "\n",
       "    .dataframe tbody tr th {\n",
       "        vertical-align: top;\n",
       "    }\n",
       "\n",
       "    .dataframe thead th {\n",
       "        text-align: right;\n",
       "    }\n",
       "</style>\n",
       "<table border=\"1\" class=\"dataframe\">\n",
       "  <thead>\n",
       "    <tr style=\"text-align: right;\">\n",
       "      <th></th>\n",
       "      <th>Annual percentage yield</th>\n",
       "      <th>1 year</th>\n",
       "      <th>3 years</th>\n",
       "      <th>5 years</th>\n",
       "      <th>7 years</th>\n",
       "      <th>10 years</th>\n",
       "    </tr>\n",
       "  </thead>\n",
       "  <tbody>\n",
       "    <tr>\n",
       "      <th>0</th>\n",
       "      <td>Max</td>\n",
       "      <td>42.241379</td>\n",
       "      <td>14.312288</td>\n",
       "      <td>9.733069</td>\n",
       "      <td>9.233010</td>\n",
       "      <td>7.304266</td>\n",
       "    </tr>\n",
       "    <tr>\n",
       "      <th>1</th>\n",
       "      <td>Mean</td>\n",
       "      <td>5.038794</td>\n",
       "      <td>3.593679</td>\n",
       "      <td>4.681261</td>\n",
       "      <td>4.667662</td>\n",
       "      <td>5.056237</td>\n",
       "    </tr>\n",
       "    <tr>\n",
       "      <th>2</th>\n",
       "      <td>Min</td>\n",
       "      <td>-22.379016</td>\n",
       "      <td>-2.502636</td>\n",
       "      <td>-1.331318</td>\n",
       "      <td>-0.724706</td>\n",
       "      <td>3.841696</td>\n",
       "    </tr>\n",
       "  </tbody>\n",
       "</table>\n",
       "</div>"
      ],
      "text/plain": [
       "  Annual percentage yield     1 year    3 years   5 years   7 years  10 years\n",
       "0                     Max  42.241379  14.312288  9.733069  9.233010  7.304266\n",
       "1                    Mean   5.038794   3.593679  4.681261  4.667662  5.056237\n",
       "2                     Min -22.379016  -2.502636 -1.331318 -0.724706  3.841696"
      ]
     },
     "execution_count": 11,
     "metadata": {},
     "output_type": "execute_result"
    }
   ],
   "source": [
    "tbl_constr = {\n",
    "    'Annual percentage yield': ['Max', 'Mean', 'Min'], \n",
    "    '1 year': calc_period(1),\n",
    "    '3 years': calc_period(3),\n",
    "    '5 years': calc_period(5),\n",
    "    '7 years': calc_period(7),\n",
    "    '10 years': calc_period(10)\n",
    "}\n",
    "tbl_df = pd.DataFrame(data=tbl_constr)\n",
    "tbl_df"
   ]
  },
  {
   "cell_type": "markdown",
   "metadata": {},
   "source": [
    "## Построим диаграмму годовой доходности на различных временных интервалах"
   ]
  },
  {
   "cell_type": "code",
   "execution_count": 12,
   "metadata": {},
   "outputs": [
    {
     "data": {
      "image/png": "[encoded data removed]",
      "text/plain": [
       "<Figure size 720x360 with 1 Axes>"
      ]
     },
     "metadata": {
      "needs_background": "light"
     },
     "output_type": "display_data"
    }
   ],
   "source": [
    "xs = sorted(np.arange(1, 11, 1))\n",
    "ys_max = [calc_period(x)[0] for x in xs]\n",
    "ys_min = [calc_period(x)[2] for x in xs]\n",
    "\n",
    "from scipy.interpolate import splrep, splev\n",
    "\n",
    "bspl_max = splrep(xs, ys_max, s=1000)\n",
    "bspl_y_max = splev(xs, bspl_max)\n",
    "\n",
    "bspl_min = splrep(xs, ys_min, s=1000)\n",
    "bspl_y_min = splev(xs, bspl_min)\n",
    "\n",
    "plt.plot(xs, bspl_y_max, label='Max. yield', alpha=0.3, color='green')\n",
    "plt.plot(xs, bspl_y_min, label='Min. yield', alpha=0.3, color='red')\n",
    "plt.hlines(0, 0, 10, label=f'', alpha=0.6, linestyle='--')\n",
    "plt.rcParams['figure.figsize'] = [10, 5]\n",
    "plt.legend()\n",
    "plt.show()"
   ]
  }
 ],
 "metadata": {
  "kernelspec": {
   "display_name": "Python 3.7.4 32-bit ('env': venv)",
   "language": "python",
   "name": "python37432bitenvvenv90bc31fd58af47abba4c0be5b28a9fb7"
  },
  "language_info": {
   "codemirror_mode": {
    "name": "ipython",
    "version": 3
   },
   "file_extension": ".py",
   "mimetype": "text/x-python",
   "name": "python",
   "nbconvert_exporter": "python",
   "pygments_lexer": "ipython3",
   "version": "3.7.4"
  }
 },
 "nbformat": 4,
 "nbformat_minor": 4
}
